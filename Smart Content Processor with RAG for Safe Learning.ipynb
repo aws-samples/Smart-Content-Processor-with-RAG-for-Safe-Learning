{
 "cells": [
  {
   "cell_type": "markdown",
   "id": "dc26886b-ff8d-4ce1-af30-c43a9db8b315",
   "metadata": {},
   "source": [
    " # Smart Content Processor with RAG for Safe Learning\n",
    "\n"
   ]
  },
  {
   "cell_type": "markdown",
   "id": "4726cbfc-8294-4d9a-8a9b-8a975e9371b6",
   "metadata": {},
   "source": [
    "This application is tailored to meet the demands of the modern learner by seamlessly transforming multimedia content into text, enabling efficient summarization and question-answering capabilities. Leveraging technologies like Retrieval Augmented Generation (RAG), it offers a comprehensive solution for educational institutions. With the ability to summarize multi part video series and answer context-specific queries, this app empowers students and teachers alike. Robust guardrails ensure a safe learning environment by filtering out obscene or irrelevant content. Harnessing the power of Amazon Bedrock's knowledge base and open search, this industry-focused solution epitomizes the potential of Generative AI in the educational domain."
   ]
  },
  {
   "cell_type": "markdown",
   "id": "50e6b09e",
   "metadata": {},
   "source": [
    "This notebook works well on ml.t3.medium instance with Python3 kernel from JupyterLab or Data Science 3.0 kernel from SageMaker Studio Classic. "
   ]
  },
  {
   "cell_type": "markdown",
   "id": "68dcac14-699d-45e4-85f5-025c9f0d7927",
   "metadata": {},
   "source": [
    "### Step 1 : Setup : Installing pre requisites"
   ]
  },
  {
   "cell_type": "code",
   "execution_count": 1,
   "id": "357d76ac-f51e-4a08-83b3-c060e9a6f7f2",
   "metadata": {},
   "outputs": [
    {
     "name": "stdout",
     "output_type": "stream",
     "text": [
      "Collecting boto3>=1.28.57\n",
      "  Downloading boto3-1.35.7-py3-none-any.whl.metadata (6.6 kB)\n",
      "Collecting awscli>=1.29.57\n",
      "  Downloading awscli-1.34.7-py3-none-any.whl.metadata (11 kB)\n",
      "Collecting botocore>=1.31.57\n",
      "  Downloading botocore-1.35.7-py3-none-any.whl.metadata (5.7 kB)\n",
      "Collecting jmespath<2.0.0,>=0.7.1 (from boto3>=1.28.57)\n",
      "  Downloading jmespath-1.0.1-py3-none-any.whl.metadata (7.6 kB)\n",
      "Collecting s3transfer<0.11.0,>=0.10.0 (from boto3>=1.28.57)\n",
      "  Downloading s3transfer-0.10.2-py3-none-any.whl.metadata (1.7 kB)\n",
      "Collecting docutils<0.17,>=0.10 (from awscli>=1.29.57)\n",
      "  Downloading docutils-0.16-py2.py3-none-any.whl.metadata (2.7 kB)\n",
      "Collecting PyYAML<6.1,>=3.10 (from awscli>=1.29.57)\n",
      "  Downloading PyYAML-6.0.2-cp310-cp310-manylinux_2_17_x86_64.manylinux2014_x86_64.whl.metadata (2.1 kB)\n",
      "Collecting colorama<0.4.7,>=0.2.5 (from awscli>=1.29.57)\n",
      "  Downloading colorama-0.4.6-py2.py3-none-any.whl.metadata (17 kB)\n",
      "Collecting rsa<4.8,>=3.1.2 (from awscli>=1.29.57)\n",
      "  Downloading rsa-4.7.2-py3-none-any.whl.metadata (3.6 kB)\n",
      "Collecting python-dateutil<3.0.0,>=2.1 (from botocore>=1.31.57)\n",
      "  Downloading python_dateutil-2.9.0.post0-py2.py3-none-any.whl.metadata (8.4 kB)\n",
      "Collecting urllib3!=2.2.0,<3,>=1.25.4 (from botocore>=1.31.57)\n",
      "  Downloading urllib3-2.2.2-py3-none-any.whl.metadata (6.4 kB)\n",
      "Collecting six>=1.5 (from python-dateutil<3.0.0,>=2.1->botocore>=1.31.57)\n",
      "  Downloading six-1.16.0-py2.py3-none-any.whl.metadata (1.8 kB)\n",
      "Collecting pyasn1>=0.1.3 (from rsa<4.8,>=3.1.2->awscli>=1.29.57)\n",
      "  Downloading pyasn1-0.6.0-py2.py3-none-any.whl.metadata (8.3 kB)\n",
      "Downloading boto3-1.35.7-py3-none-any.whl (139 kB)\n",
      "\u001b[2K   \u001b[90m━━━━━━━━━━━━━━━━━━━━━━━━━━━━━━━━━━━━━━━━\u001b[0m \u001b[32m139.1/139.1 kB\u001b[0m \u001b[31m15.5 MB/s\u001b[0m eta \u001b[36m0:00:00\u001b[0m\n",
      "\u001b[?25hDownloading awscli-1.34.7-py3-none-any.whl (4.5 MB)\n",
      "\u001b[2K   \u001b[90m━━━━━━━━━━━━━━━━━━━━━━━━━━━━━━━━━━━━━━━━\u001b[0m \u001b[32m4.5/4.5 MB\u001b[0m \u001b[31m102.9 MB/s\u001b[0m eta \u001b[36m0:00:00\u001b[0m00:01\u001b[0m\n",
      "\u001b[?25hDownloading botocore-1.35.7-py3-none-any.whl (12.5 MB)\n",
      "\u001b[2K   \u001b[90m━━━━━━━━━━━━━━━━━━━━━━━━━━━━━━━━━━━━━━━━\u001b[0m \u001b[32m12.5/12.5 MB\u001b[0m \u001b[31m78.9 MB/s\u001b[0m eta \u001b[36m0:00:00\u001b[0m:00:01\u001b[0m0:01\u001b[0m\n",
      "\u001b[?25hDownloading colorama-0.4.6-py2.py3-none-any.whl (25 kB)\n",
      "Downloading docutils-0.16-py2.py3-none-any.whl (548 kB)\n",
      "\u001b[2K   \u001b[90m━━━━━━━━━━━━━━━━━━━━━━━━━━━━━━━━━━━━━━━━\u001b[0m \u001b[32m548.2/548.2 kB\u001b[0m \u001b[31m61.3 MB/s\u001b[0m eta \u001b[36m0:00:00\u001b[0m\n",
      "\u001b[?25hDownloading jmespath-1.0.1-py3-none-any.whl (20 kB)\n",
      "Downloading python_dateutil-2.9.0.post0-py2.py3-none-any.whl (229 kB)\n",
      "\u001b[2K   \u001b[90m━━━━━━━━━━━━━━━━━━━━━━━━━━━━━━━━━━━━━━━━\u001b[0m \u001b[32m229.9/229.9 kB\u001b[0m \u001b[31m37.4 MB/s\u001b[0m eta \u001b[36m0:00:00\u001b[0m\n",
      "\u001b[?25hDownloading PyYAML-6.0.2-cp310-cp310-manylinux_2_17_x86_64.manylinux2014_x86_64.whl (751 kB)\n",
      "\u001b[2K   \u001b[90m━━━━━━━━━━━━━━━━━━━━━━━━━━━━━━━━━━━━━━━━\u001b[0m \u001b[32m751.2/751.2 kB\u001b[0m \u001b[31m81.2 MB/s\u001b[0m eta \u001b[36m0:00:00\u001b[0m\n",
      "\u001b[?25hDownloading rsa-4.7.2-py3-none-any.whl (34 kB)\n",
      "Downloading s3transfer-0.10.2-py3-none-any.whl (82 kB)\n",
      "\u001b[2K   \u001b[90m━━━━━━━━━━━━━━━━━━━━━━━━━━━━━━━━━━━━━━━━\u001b[0m \u001b[32m82.7/82.7 kB\u001b[0m \u001b[31m14.9 MB/s\u001b[0m eta \u001b[36m0:00:00\u001b[0m\n",
      "\u001b[?25hDownloading urllib3-2.2.2-py3-none-any.whl (121 kB)\n",
      "\u001b[2K   \u001b[90m━━━━━━━━━━━━━━━━━━━━━━━━━━━━━━━━━━━━━━━━\u001b[0m \u001b[32m121.4/121.4 kB\u001b[0m \u001b[31m13.3 MB/s\u001b[0m eta \u001b[36m0:00:00\u001b[0m\n",
      "\u001b[?25hDownloading pyasn1-0.6.0-py2.py3-none-any.whl (85 kB)\n",
      "\u001b[2K   \u001b[90m━━━━━━━━━━━━━━━━━━━━━━━━━━━━━━━━━━━━━━━━\u001b[0m \u001b[32m85.3/85.3 kB\u001b[0m \u001b[31m17.7 MB/s\u001b[0m eta \u001b[36m0:00:00\u001b[0m\n",
      "\u001b[?25hDownloading six-1.16.0-py2.py3-none-any.whl (11 kB)\n",
      "Installing collected packages: urllib3, six, PyYAML, pyasn1, jmespath, docutils, colorama, rsa, python-dateutil, botocore, s3transfer, boto3, awscli\n",
      "  Attempting uninstall: urllib3\n",
      "    Found existing installation: urllib3 1.26.19\n",
      "    Uninstalling urllib3-1.26.19:\n",
      "      Successfully uninstalled urllib3-1.26.19\n",
      "  Attempting uninstall: six\n",
      "    Found existing installation: six 1.16.0\n",
      "    Uninstalling six-1.16.0:\n",
      "      Successfully uninstalled six-1.16.0\n",
      "  Attempting uninstall: PyYAML\n",
      "    Found existing installation: PyYAML 6.0.1\n",
      "    Uninstalling PyYAML-6.0.1:\n",
      "      Successfully uninstalled PyYAML-6.0.1\n",
      "  Attempting uninstall: pyasn1\n",
      "    Found existing installation: pyasn1 0.6.0\n",
      "    Uninstalling pyasn1-0.6.0:\n",
      "      Successfully uninstalled pyasn1-0.6.0\n",
      "  Attempting uninstall: jmespath\n",
      "    Found existing installation: jmespath 1.0.1\n",
      "    Uninstalling jmespath-1.0.1:\n",
      "      Successfully uninstalled jmespath-1.0.1\n",
      "  Attempting uninstall: colorama\n",
      "    Found existing installation: colorama 0.4.6\n",
      "    Uninstalling colorama-0.4.6:\n",
      "      Successfully uninstalled colorama-0.4.6\n",
      "  Attempting uninstall: rsa\n",
      "    Found existing installation: rsa 4.9\n",
      "    Uninstalling rsa-4.9:\n",
      "      Successfully uninstalled rsa-4.9\n",
      "  Attempting uninstall: python-dateutil\n",
      "    Found existing installation: python-dateutil 2.9.0\n",
      "    Uninstalling python-dateutil-2.9.0:\n",
      "      Successfully uninstalled python-dateutil-2.9.0\n",
      "  Attempting uninstall: botocore\n",
      "    Found existing installation: botocore 1.34.131\n",
      "    Uninstalling botocore-1.34.131:\n",
      "      Successfully uninstalled botocore-1.34.131\n",
      "  Attempting uninstall: s3transfer\n",
      "    Found existing installation: s3transfer 0.10.2\n",
      "    Uninstalling s3transfer-0.10.2:\n",
      "      Successfully uninstalled s3transfer-0.10.2\n",
      "  Attempting uninstall: boto3\n",
      "    Found existing installation: boto3 1.34.131\n",
      "    Uninstalling boto3-1.34.131:\n",
      "      Successfully uninstalled boto3-1.34.131\n",
      "\u001b[31mERROR: pip's dependency resolver does not currently take into account all the packages that are installed. This behaviour is the source of the following dependency conflicts.\n",
      "jupyter-ai 2.18.1 requires faiss-cpu, which is not installed.\n",
      "aiobotocore 2.13.1 requires botocore<1.34.132,>=1.34.70, but you have botocore 1.35.7 which is incompatible.\n",
      "amazon-sagemaker-sql-magic 0.1.3 requires sqlparse==0.5.0, but you have sqlparse 0.5.1 which is incompatible.\n",
      "autogluon-common 0.8.3 requires pandas<1.6,>=1.4.1, but you have pandas 2.1.4 which is incompatible.\n",
      "autogluon-core 0.8.3 requires pandas<1.6,>=1.4.1, but you have pandas 2.1.4 which is incompatible.\n",
      "autogluon-core 0.8.3 requires scikit-learn<1.4.1,>=1.1, but you have scikit-learn 1.4.2 which is incompatible.\n",
      "autogluon-features 0.8.3 requires pandas<1.6,>=1.4.1, but you have pandas 2.1.4 which is incompatible.\n",
      "autogluon-features 0.8.3 requires scikit-learn<1.4.1,>=1.1, but you have scikit-learn 1.4.2 which is incompatible.\n",
      "autogluon-multimodal 0.8.3 requires pandas<1.6,>=1.4.1, but you have pandas 2.1.4 which is incompatible.\n",
      "autogluon-multimodal 0.8.3 requires pytorch-lightning<1.10.0,>=1.9.0, but you have pytorch-lightning 2.0.9 which is incompatible.\n",
      "autogluon-multimodal 0.8.3 requires scikit-learn<1.4.1,>=1.1, but you have scikit-learn 1.4.2 which is incompatible.\n",
      "autogluon-multimodal 0.8.3 requires torch<1.14,>=1.9, but you have torch 2.0.0.post104 which is incompatible.\n",
      "autogluon-multimodal 0.8.3 requires torchmetrics<0.12.0,>=0.11.0, but you have torchmetrics 1.0.3 which is incompatible.\n",
      "autogluon-multimodal 0.8.3 requires torchvision<0.15.0, but you have torchvision 0.15.2a0+ab7b3e6 which is incompatible.\n",
      "autogluon-tabular 0.8.3 requires pandas<1.6,>=1.4.1, but you have pandas 2.1.4 which is incompatible.\n",
      "autogluon-tabular 0.8.3 requires scikit-learn<1.4.1,>=1.1, but you have scikit-learn 1.4.2 which is incompatible.\n",
      "autogluon-timeseries 0.8.3 requires pandas<1.6,>=1.4.1, but you have pandas 2.1.4 which is incompatible.\n",
      "autogluon-timeseries 0.8.3 requires pytorch-lightning<1.10.0,>=1.7.4, but you have pytorch-lightning 2.0.9 which is incompatible.\n",
      "autogluon-timeseries 0.8.3 requires torch<1.14,>=1.9, but you have torch 2.0.0.post104 which is incompatible.\n",
      "langchain-aws 0.1.6 requires boto3<1.35.0,>=1.34.51, but you have boto3 1.35.7 which is incompatible.\n",
      "sparkmagic 0.21.0 requires pandas<2.0.0,>=0.17.1, but you have pandas 2.1.4 which is incompatible.\u001b[0m\u001b[31m\n",
      "\u001b[0mSuccessfully installed PyYAML-6.0.2 awscli-1.34.7 boto3-1.35.7 botocore-1.35.7 colorama-0.4.6 docutils-0.16 jmespath-1.0.1 pyasn1-0.6.0 python-dateutil-2.9.0.post0 rsa-4.7.2 s3transfer-0.10.2 six-1.16.0 urllib3-2.2.2\n",
      "Note: you may need to restart the kernel to use updated packages.\n",
      "Collecting langchain==0.0.309\n",
      "  Downloading langchain-0.0.309-py3-none-any.whl.metadata (15 kB)\n",
      "Requirement already satisfied: transformers<5,>=4.24 in /opt/conda/lib/python3.10/site-packages (4.40.2)\n",
      "Requirement already satisfied: PyYAML>=5.3 in /opt/conda/lib/python3.10/site-packages (from langchain==0.0.309) (6.0.2)\n",
      "Requirement already satisfied: SQLAlchemy<3,>=1.4 in /opt/conda/lib/python3.10/site-packages (from langchain==0.0.309) (2.0.30)\n",
      "Requirement already satisfied: aiohttp<4.0.0,>=3.8.3 in /opt/conda/lib/python3.10/site-packages (from langchain==0.0.309) (3.9.5)\n",
      "Collecting anyio<4.0 (from langchain==0.0.309)\n",
      "  Downloading anyio-3.7.1-py3-none-any.whl.metadata (4.7 kB)\n",
      "Requirement already satisfied: async-timeout<5.0.0,>=4.0.0 in /opt/conda/lib/python3.10/site-packages (from langchain==0.0.309) (4.0.3)\n",
      "Requirement already satisfied: dataclasses-json<0.7,>=0.5.7 in /opt/conda/lib/python3.10/site-packages (from langchain==0.0.309) (0.6.7)\n",
      "Requirement already satisfied: jsonpatch<2.0,>=1.33 in /opt/conda/lib/python3.10/site-packages (from langchain==0.0.309) (1.33)\n",
      "Collecting langsmith<0.1.0,>=0.0.40 (from langchain==0.0.309)\n",
      "  Downloading langsmith-0.0.92-py3-none-any.whl.metadata (9.9 kB)\n",
      "Requirement already satisfied: numpy<2,>=1 in /opt/conda/lib/python3.10/site-packages (from langchain==0.0.309) (1.26.4)\n",
      "Requirement already satisfied: pydantic<3,>=1 in /opt/conda/lib/python3.10/site-packages (from langchain==0.0.309) (1.10.16)\n",
      "Requirement already satisfied: requests<3,>=2 in /opt/conda/lib/python3.10/site-packages (from langchain==0.0.309) (2.32.3)\n",
      "Requirement already satisfied: tenacity<9.0.0,>=8.1.0 in /opt/conda/lib/python3.10/site-packages (from langchain==0.0.309) (8.5.0)\n",
      "Requirement already satisfied: filelock in /opt/conda/lib/python3.10/site-packages (from transformers<5,>=4.24) (3.15.4)\n",
      "Requirement already satisfied: huggingface-hub<1.0,>=0.19.3 in /opt/conda/lib/python3.10/site-packages (from transformers<5,>=4.24) (0.24.3)\n",
      "Requirement already satisfied: packaging>=20.0 in /opt/conda/lib/python3.10/site-packages (from transformers<5,>=4.24) (23.2)\n",
      "Requirement already satisfied: regex!=2019.12.17 in /opt/conda/lib/python3.10/site-packages (from transformers<5,>=4.24) (2024.7.24)\n",
      "Requirement already satisfied: tokenizers<0.20,>=0.19 in /opt/conda/lib/python3.10/site-packages (from transformers<5,>=4.24) (0.19.1)\n",
      "Requirement already satisfied: safetensors>=0.4.1 in /opt/conda/lib/python3.10/site-packages (from transformers<5,>=4.24) (0.4.3)\n",
      "Requirement already satisfied: tqdm>=4.27 in /opt/conda/lib/python3.10/site-packages (from transformers<5,>=4.24) (4.66.4)\n",
      "Requirement already satisfied: aiosignal>=1.1.2 in /opt/conda/lib/python3.10/site-packages (from aiohttp<4.0.0,>=3.8.3->langchain==0.0.309) (1.3.1)\n",
      "Requirement already satisfied: attrs>=17.3.0 in /opt/conda/lib/python3.10/site-packages (from aiohttp<4.0.0,>=3.8.3->langchain==0.0.309) (23.2.0)\n",
      "Requirement already satisfied: frozenlist>=1.1.1 in /opt/conda/lib/python3.10/site-packages (from aiohttp<4.0.0,>=3.8.3->langchain==0.0.309) (1.4.1)\n",
      "Requirement already satisfied: multidict<7.0,>=4.5 in /opt/conda/lib/python3.10/site-packages (from aiohttp<4.0.0,>=3.8.3->langchain==0.0.309) (6.0.5)\n",
      "Requirement already satisfied: yarl<2.0,>=1.0 in /opt/conda/lib/python3.10/site-packages (from aiohttp<4.0.0,>=3.8.3->langchain==0.0.309) (1.9.4)\n",
      "Requirement already satisfied: idna>=2.8 in /opt/conda/lib/python3.10/site-packages (from anyio<4.0->langchain==0.0.309) (3.7)\n",
      "Requirement already satisfied: sniffio>=1.1 in /opt/conda/lib/python3.10/site-packages (from anyio<4.0->langchain==0.0.309) (1.3.1)\n",
      "Requirement already satisfied: exceptiongroup in /opt/conda/lib/python3.10/site-packages (from anyio<4.0->langchain==0.0.309) (1.2.2)\n",
      "Requirement already satisfied: marshmallow<4.0.0,>=3.18.0 in /opt/conda/lib/python3.10/site-packages (from dataclasses-json<0.7,>=0.5.7->langchain==0.0.309) (3.21.3)\n",
      "Requirement already satisfied: typing-inspect<1,>=0.4.0 in /opt/conda/lib/python3.10/site-packages (from dataclasses-json<0.7,>=0.5.7->langchain==0.0.309) (0.9.0)\n",
      "Requirement already satisfied: fsspec>=2023.5.0 in /opt/conda/lib/python3.10/site-packages (from huggingface-hub<1.0,>=0.19.3->transformers<5,>=4.24) (2023.6.0)\n",
      "Requirement already satisfied: typing-extensions>=3.7.4.3 in /opt/conda/lib/python3.10/site-packages (from huggingface-hub<1.0,>=0.19.3->transformers<5,>=4.24) (4.12.2)\n",
      "Requirement already satisfied: jsonpointer>=1.9 in /opt/conda/lib/python3.10/site-packages (from jsonpatch<2.0,>=1.33->langchain==0.0.309) (3.0.0)\n",
      "Requirement already satisfied: charset-normalizer<4,>=2 in /opt/conda/lib/python3.10/site-packages (from requests<3,>=2->langchain==0.0.309) (3.3.2)\n",
      "Requirement already satisfied: urllib3<3,>=1.21.1 in /opt/conda/lib/python3.10/site-packages (from requests<3,>=2->langchain==0.0.309) (2.2.2)\n",
      "Requirement already satisfied: certifi>=2017.4.17 in /opt/conda/lib/python3.10/site-packages (from requests<3,>=2->langchain==0.0.309) (2024.7.4)\n",
      "Requirement already satisfied: greenlet!=0.4.17 in /opt/conda/lib/python3.10/site-packages (from SQLAlchemy<3,>=1.4->langchain==0.0.309) (3.0.3)\n",
      "Requirement already satisfied: mypy-extensions>=0.3.0 in /opt/conda/lib/python3.10/site-packages (from typing-inspect<1,>=0.4.0->dataclasses-json<0.7,>=0.5.7->langchain==0.0.309) (1.0.0)\n",
      "Downloading langchain-0.0.309-py3-none-any.whl (1.8 MB)\n",
      "\u001b[2K   \u001b[90m━━━━━━━━━━━━━━━━━━━━━━━━━━━━━━━━━━━━━━━━\u001b[0m \u001b[32m1.8/1.8 MB\u001b[0m \u001b[31m65.3 MB/s\u001b[0m eta \u001b[36m0:00:00\u001b[0m\n",
      "\u001b[?25hDownloading anyio-3.7.1-py3-none-any.whl (80 kB)\n",
      "\u001b[2K   \u001b[90m━━━━━━━━━━━━━━━━━━━━━━━━━━━━━━━━━━━━━━━━\u001b[0m \u001b[32m80.9/80.9 kB\u001b[0m \u001b[31m11.7 MB/s\u001b[0m eta \u001b[36m0:00:00\u001b[0m\n",
      "\u001b[?25hDownloading langsmith-0.0.92-py3-none-any.whl (56 kB)\n",
      "\u001b[2K   \u001b[90m━━━━━━━━━━━━━━━━━━━━━━━━━━━━━━━━━━━━━━━━\u001b[0m \u001b[32m56.5/56.5 kB\u001b[0m \u001b[31m10.9 MB/s\u001b[0m eta \u001b[36m0:00:00\u001b[0m\n",
      "\u001b[?25hInstalling collected packages: anyio, langsmith, langchain\n",
      "  Attempting uninstall: anyio\n",
      "    Found existing installation: anyio 4.4.0\n",
      "    Uninstalling anyio-4.4.0:\n",
      "      Successfully uninstalled anyio-4.4.0\n",
      "  Attempting uninstall: langsmith\n",
      "    Found existing installation: langsmith 0.1.94\n",
      "    Uninstalling langsmith-0.1.94:\n",
      "      Successfully uninstalled langsmith-0.1.94\n",
      "  Attempting uninstall: langchain\n",
      "    Found existing installation: langchain 0.1.9\n",
      "    Uninstalling langchain-0.1.9:\n",
      "      Successfully uninstalled langchain-0.1.9\n",
      "\u001b[31mERROR: pip's dependency resolver does not currently take into account all the packages that are installed. This behaviour is the source of the following dependency conflicts.\n",
      "jupyter-ai-magics 2.18.1 requires langchain<0.2.0,>=0.1.0, but you have langchain 0.0.309 which is incompatible.\n",
      "langchain-community 0.0.38 requires langsmith<0.2.0,>=0.1.0, but you have langsmith 0.0.92 which is incompatible.\n",
      "langchain-core 0.1.52 requires langsmith<0.2.0,>=0.1.0, but you have langsmith 0.0.92 which is incompatible.\n",
      "sparkmagic 0.21.0 requires pandas<2.0.0,>=0.17.1, but you have pandas 2.1.4 which is incompatible.\u001b[0m\u001b[31m\n",
      "\u001b[0mSuccessfully installed anyio-3.7.1 langchain-0.0.309 langsmith-0.0.92\n",
      "Note: you may need to restart the kernel to use updated packages.\n",
      "Collecting tiktoken\n",
      "  Downloading tiktoken-0.7.0-cp310-cp310-manylinux_2_17_x86_64.manylinux2014_x86_64.whl.metadata (6.6 kB)\n",
      "Requirement already satisfied: regex>=2022.1.18 in /opt/conda/lib/python3.10/site-packages (from tiktoken) (2024.7.24)\n",
      "Requirement already satisfied: requests>=2.26.0 in /opt/conda/lib/python3.10/site-packages (from tiktoken) (2.32.3)\n",
      "Requirement already satisfied: charset-normalizer<4,>=2 in /opt/conda/lib/python3.10/site-packages (from requests>=2.26.0->tiktoken) (3.3.2)\n",
      "Requirement already satisfied: idna<4,>=2.5 in /opt/conda/lib/python3.10/site-packages (from requests>=2.26.0->tiktoken) (3.7)\n",
      "Requirement already satisfied: urllib3<3,>=1.21.1 in /opt/conda/lib/python3.10/site-packages (from requests>=2.26.0->tiktoken) (2.2.2)\n",
      "Requirement already satisfied: certifi>=2017.4.17 in /opt/conda/lib/python3.10/site-packages (from requests>=2.26.0->tiktoken) (2024.7.4)\n",
      "Downloading tiktoken-0.7.0-cp310-cp310-manylinux_2_17_x86_64.manylinux2014_x86_64.whl (1.1 MB)\n",
      "\u001b[2K   \u001b[90m━━━━━━━━━━━━━━━━━━━━━━━━━━━━━━━━━━━━━━━━\u001b[0m \u001b[32m1.1/1.1 MB\u001b[0m \u001b[31m51.5 MB/s\u001b[0m eta \u001b[36m0:00:00\u001b[0m\n",
      "\u001b[?25hInstalling collected packages: tiktoken\n",
      "Successfully installed tiktoken-0.7.0\n",
      "Note: you may need to restart the kernel to use updated packages.\n"
     ]
    }
   ],
   "source": [
    "%pip install --no-build-isolation --force-reinstall \\\n",
    "    \"boto3>=1.28.57\" \\\n",
    "    \"awscli>=1.29.57\" \\\n",
    "    \"botocore>=1.31.57\"\n",
    "\n",
    "%pip install langchain==0.0.309 \"transformers>=4.24,<5\"\n",
    "\n",
    "%pip install tiktoken"
   ]
  },
  {
   "cell_type": "markdown",
   "id": "d84988e6",
   "metadata": {},
   "source": [
    "The file utility.py is used to create roles and policies for:\n",
    "1. Policy for accessing foundation model\n",
    "2. Policy for reading documents from s3\n",
    "3. Amazon Bedrock Knowledge Base Execution Role for accessing OSS and S3"
   ]
  },
  {
   "cell_type": "markdown",
   "id": "aa576279",
   "metadata": {},
   "source": [
    "### Step 2 : Downloading sample content"
   ]
  },
  {
   "cell_type": "markdown",
   "id": "35caec3a-e8a4-4801-bec6-235dbc3a5f57",
   "metadata": {},
   "source": [
    "The content from two domains are considered for this demo\n",
    "1. Quantum physics lectures from MIT\n",
    "2. Lectures in the field of Botany"
   ]
  },
  {
   "cell_type": "markdown",
   "id": "a29079f9-bc4c-4a57-957e-471d5a23301c",
   "metadata": {},
   "source": [
    "sample content "
   ]
  },
  {
   "cell_type": "code",
   "execution_count": 6,
   "id": "e021def5-4a4f-4162-b3bc-41a4cddeb096",
   "metadata": {},
   "outputs": [
    {
     "name": "stdout",
     "output_type": "stream",
     "text": [
      "--2024-08-28 06:37:03--  http://www.brown.edu/Departments/Watson_Institute/Open_Source/RadioOpenSource-Harold_Bloom-Melville.mp3\n",
      "Resolving www.brown.edu (www.brown.edu)... 104.18.2.173, 104.18.3.173, 2606:4700::6812:2ad, ...\n",
      "Connecting to www.brown.edu (www.brown.edu)|104.18.2.173|:80... connected.\n",
      "HTTP request sent, awaiting response... 301 Moved Permanently\n",
      "Location: https://www.brown.edu/Departments/Watson_Institute/Open_Source/RadioOpenSource-Harold_Bloom-Melville.mp3 [following]\n",
      "--2024-08-28 06:37:03--  https://www.brown.edu/Departments/Watson_Institute/Open_Source/RadioOpenSource-Harold_Bloom-Melville.mp3\n",
      "Connecting to www.brown.edu (www.brown.edu)|104.18.2.173|:443... connected.\n",
      "WARNING: cannot verify www.brown.edu's certificate, issued by ‘CN=WE1,O=Google Trust Services,C=US’:\n",
      "  Unable to locally verify the issuer's authority.\n",
      "HTTP request sent, awaiting response... 200 OK\n",
      "Length: 17252346 (16M) [audio/mpeg]\n",
      "Saving to: ‘podcast.mp3’\n",
      "\n",
      "podcast.mp3         100%[===================>]  16.45M  --.-KB/s    in 0.06s   \n",
      "\n",
      "2024-08-28 06:37:03 (255 MB/s) - ‘podcast.mp3’ saved [17252346/17252346]\n",
      "\n"
     ]
    }
   ],
   "source": [
    "!wget -O podcast.mp3 http://www.brown.edu/Departments/Watson_Institute/Open_Source/RadioOpenSource-Harold_Bloom-Melville.mp3 --no-check-certificate"
   ]
  },
  {
   "cell_type": "markdown",
   "id": "e69ee8ae-ec4b-4168-bc4f-3593de8e82e2",
   "metadata": {},
   "source": [
    "### sample upload"
   ]
  },
  {
   "cell_type": "code",
   "execution_count": 8,
   "id": "34e5a1b4-5bbe-4a08-9a6e-5b0719e0cf69",
   "metadata": {},
   "outputs": [],
   "source": [
    "import boto3\n",
    "\n",
    "s3_client = boto3.client('s3')\n",
    "file_name = \"podcast.mp3\"\n",
    "bucket = \"edify-apjc\"\n",
    "object_name = \"sample/podcast.mp3\"\n",
    "response = s3_client.upload_file(file_name, bucket, object_name)"
   ]
  },
  {
   "cell_type": "markdown",
   "id": "7b351080-6b34-4316-b709-2b906d7ccb5c",
   "metadata": {},
   "source": [
    "### Step 3 : Converting the media into text using a Transcribe job"
   ]
  },
  {
   "cell_type": "code",
   "execution_count": 9,
   "id": "e044168a-d3a8-42ff-a540-23dff692f1fc",
   "metadata": {},
   "outputs": [
    {
     "name": "stdout",
     "output_type": "stream",
     "text": [
      "sagemaker.config INFO - Not applying SDK defaults from location: /etc/xdg/sagemaker/config.yaml\n",
      "sagemaker.config INFO - Not applying SDK defaults from location: /home/sagemaker-user/.config/sagemaker/config.yaml\n"
     ]
    }
   ],
   "source": [
    "import json\n",
    "import os\n",
    "import sys\n",
    "import sagemaker\n",
    "import time\n",
    "import json\n",
    "import warnings\n",
    "import langchain\n",
    "import tiktoken\n",
    "warnings.filterwarnings('ignore')"
   ]
  },
  {
   "cell_type": "code",
   "execution_count": 10,
   "id": "7dc8159b-08d3-4620-a1e7-b3e94b8369f2",
   "metadata": {},
   "outputs": [
    {
     "data": {
      "text/plain": [
       "'arn:aws:iam::533267439967:role/service-role/AmazonSageMaker-ExecutionRole-20240416T114832'"
      ]
     },
     "execution_count": 10,
     "metadata": {},
     "output_type": "execute_result"
    }
   ],
   "source": [
    "sagemaker_session = sagemaker.Session()\n",
    "role = sagemaker.get_execution_role()\n",
    "role"
   ]
  },
  {
   "cell_type": "code",
   "execution_count": 14,
   "id": "f6e33b25-4ecf-4fa5-97a8-8e89842e0905",
   "metadata": {},
   "outputs": [],
   "source": [
    "transcribe = boto3.client('transcribe')\n",
    "\n",
    "job_name = \"transcribe_quantum\"\n",
    "job_uri = \"s3://edify-apjc/transcribe-input/quantum/Lecture 1_ Introduction to Superposition.mp4\"\n",
    "output_job_uri = \"edify-apjc\"\n",
    "output_loc = \"quantumtranscribe-output/\"\n",
    "response = transcribe.start_transcription_job( \n",
    "    TranscriptionJobName=job_name,\n",
    "    Media={'MediaFileUri': job_uri},\n",
    "    OutputBucketName=output_job_uri,\n",
    "    OutputKey=output_loc,\n",
    "    MediaFormat='mp3',\n",
    "    LanguageCode='en-US')"
   ]
  },
  {
   "cell_type": "code",
   "execution_count": 15,
   "id": "d4aca46c-bb0e-4d81-b213-a7a04b0f68f9",
   "metadata": {},
   "outputs": [
    {
     "name": "stdout",
     "output_type": "stream",
     "text": [
      "Waiting for transcribe_quantum. Current status is IN_PROGRESS.\n",
      "Waiting for transcribe_quantum. Current status is IN_PROGRESS.\n",
      "Waiting for transcribe_quantum. Current status is IN_PROGRESS.\n",
      "Waiting for transcribe_quantum. Current status is IN_PROGRESS.\n",
      "Waiting for transcribe_quantum. Current status is IN_PROGRESS.\n",
      "Waiting for transcribe_quantum. Current status is IN_PROGRESS.\n",
      "Waiting for transcribe_quantum. Current status is IN_PROGRESS.\n",
      "Waiting for transcribe_quantum. Current status is IN_PROGRESS.\n",
      "Waiting for transcribe_quantum. Current status is IN_PROGRESS.\n",
      "Job transcribe_quantum is COMPLETED.\n",
      "Download the transcript from\n",
      "\thttps://s3.us-east-1.amazonaws.com/edify-apjc/quantumtranscribe-output/transcribe_quantum.json.\n"
     ]
    }
   ],
   "source": [
    "max_tries = 60\n",
    "while max_tries > 0:\n",
    "    max_tries -= 1\n",
    "    job = transcribe.get_transcription_job(TranscriptionJobName=job_name)\n",
    "    job_status = job['TranscriptionJob']['TranscriptionJobStatus']\n",
    "    if job_status in ['COMPLETED', 'FAILED']:\n",
    "        print(f\"Job {job_name} is {job_status}.\")\n",
    "        if job_status == 'COMPLETED':\n",
    "            print(\n",
    "                f\"Download the transcript from\\n\"\n",
    "                f\"\\t{job['TranscriptionJob']['Transcript']['TranscriptFileUri']}.\")\n",
    "        break\n",
    "    else:\n",
    "        print(f\"Waiting for {job_name}. Current status is {job_status}.\")\n",
    "    time.sleep(10)"
   ]
  },
  {
   "cell_type": "code",
   "execution_count": 17,
   "id": "4f8cad16-9a1c-4d7d-bb9f-c5ce0e60aaa0",
   "metadata": {},
   "outputs": [
    {
     "name": "stdout",
     "output_type": "stream",
     "text": [
      "The following content is provided under a Creative Commons license. Your support will help mit open courseware continue to offer high quality educational resources for free to make a donation or to view additional materials from hundreds of mit courses. Visit Mit Open Courseware at ocw.mit.edu. Hi everyone. Welcome to 804 for spring 2013. This is the uh fourth and uh presumably final time that I will be teaching this class. So I'm pretty excited about it. Um So my name is Alan Adams. I'll be lec\n"
     ]
    }
   ],
   "source": [
    "s3 = boto3.client('s3')\n",
    "bucket = 'edify-apjc'\n",
    "key = 'quantumtranscribe-output/transcribe_quantum.json'\n",
    "response = s3.get_object(Bucket=bucket, Key=key)\n",
    "data = json.loads(response['Body'].read().decode('utf-8'))\n",
    "text = data['results']['transcripts'][0]['transcript']\n",
    "print(data['results']['transcripts'][0]['transcript'][:500])\n",
    "#text"
   ]
  },
  {
   "cell_type": "code",
   "execution_count": 18,
   "id": "9d9e3a24-c2e7-445b-be18-c5acc7942487",
   "metadata": {},
   "outputs": [
    {
     "data": {
      "text/plain": [
       "14562"
      ]
     },
     "execution_count": 18,
     "metadata": {},
     "output_type": "execute_result"
    }
   ],
   "source": [
    "encoding = tiktoken.get_encoding('cl100k_base')\n",
    "num_tokens = len(encoding.encode(text))\n",
    "num_tokens"
   ]
  },
  {
   "cell_type": "markdown",
   "id": "c8877e20-3cef-4f30-b598-1757ca97f066",
   "metadata": {},
   "source": [
    " Adding more contents"
   ]
  },
  {
   "cell_type": "code",
   "execution_count": 20,
   "id": "5d183985-4c14-4f6b-894a-dd621538f9d6",
   "metadata": {},
   "outputs": [],
   "source": [
    "transcribe = boto3.client('transcribe')\n",
    "\n",
    "job_name = \"ExperimentalFactsofLife\"\n",
    "job_uri = \"s3://edify-apjc/transcribe-input/quantum/Lecture 2_ Experimental Facts of Life.mp4\"\n",
    "output_job_uri = \"edify-apjc\"\n",
    "output_loc = \"quantumtranscribe-output/\"\n",
    "response = transcribe.start_transcription_job( \n",
    "    TranscriptionJobName=job_name,\n",
    "    Media={'MediaFileUri': job_uri},\n",
    "    OutputBucketName=output_job_uri,\n",
    "    OutputKey=output_loc,\n",
    "    MediaFormat='mp3',\n",
    "    LanguageCode='en-US')"
   ]
  },
  {
   "cell_type": "code",
   "execution_count": 21,
   "id": "533a200e-b862-4788-b817-40717a7f2629",
   "metadata": {},
   "outputs": [
    {
     "name": "stdout",
     "output_type": "stream",
     "text": [
      "Waiting for ExperimentalFactsofLife. Current status is IN_PROGRESS.\n",
      "Waiting for ExperimentalFactsofLife. Current status is IN_PROGRESS.\n",
      "Waiting for ExperimentalFactsofLife. Current status is IN_PROGRESS.\n",
      "Waiting for ExperimentalFactsofLife. Current status is IN_PROGRESS.\n",
      "Waiting for ExperimentalFactsofLife. Current status is IN_PROGRESS.\n",
      "Waiting for ExperimentalFactsofLife. Current status is IN_PROGRESS.\n",
      "Waiting for ExperimentalFactsofLife. Current status is IN_PROGRESS.\n",
      "Waiting for ExperimentalFactsofLife. Current status is IN_PROGRESS.\n",
      "Waiting for ExperimentalFactsofLife. Current status is IN_PROGRESS.\n",
      "Waiting for ExperimentalFactsofLife. Current status is IN_PROGRESS.\n",
      "Waiting for ExperimentalFactsofLife. Current status is IN_PROGRESS.\n",
      "Waiting for ExperimentalFactsofLife. Current status is IN_PROGRESS.\n",
      "Waiting for ExperimentalFactsofLife. Current status is IN_PROGRESS.\n",
      "Waiting for ExperimentalFactsofLife. Current status is IN_PROGRESS.\n",
      "Waiting for ExperimentalFactsofLife. Current status is IN_PROGRESS.\n",
      "Waiting for ExperimentalFactsofLife. Current status is IN_PROGRESS.\n",
      "Job ExperimentalFactsofLife is COMPLETED.\n",
      "Download the transcript from\n",
      "\thttps://s3.us-east-1.amazonaws.com/edify-apjc/quantumtranscribe-output/ExperimentalFactsofLife.json.\n"
     ]
    }
   ],
   "source": [
    "max_tries = 60\n",
    "while max_tries > 0:\n",
    "    max_tries -= 1\n",
    "    job = transcribe.get_transcription_job(TranscriptionJobName=job_name)\n",
    "    job_status = job['TranscriptionJob']['TranscriptionJobStatus']\n",
    "    if job_status in ['COMPLETED', 'FAILED']:\n",
    "        print(f\"Job {job_name} is {job_status}.\")\n",
    "        if job_status == 'COMPLETED':\n",
    "            print(\n",
    "                f\"Download the transcript from\\n\"\n",
    "                f\"\\t{job['TranscriptionJob']['Transcript']['TranscriptFileUri']}.\")\n",
    "        break\n",
    "    else:\n",
    "        print(f\"Waiting for {job_name}. Current status is {job_status}.\")\n",
    "    time.sleep(10)"
   ]
  },
  {
   "cell_type": "code",
   "execution_count": 22,
   "id": "8983ddda-f53b-450f-a679-07427c55a59a",
   "metadata": {},
   "outputs": [
    {
     "data": {
      "text/plain": [
       "14562"
      ]
     },
     "execution_count": 22,
     "metadata": {},
     "output_type": "execute_result"
    }
   ],
   "source": [
    "encoding = tiktoken.get_encoding('cl100k_base')\n",
    "num_tokens = len(encoding.encode(text))\n",
    "num_tokens"
   ]
  },
  {
   "cell_type": "code",
   "execution_count": 43,
   "id": "87f9cd56-13d5-4977-b38b-32b392962e05",
   "metadata": {},
   "outputs": [
    {
     "name": "stdout",
     "output_type": "stream",
     "text": [
      "lain that that's gonna be our first challenge. Now, interestingly Geiger, who is this uh this collaborator of Rutherford young junior collaborator of Rutherford um went on uh to develop a really neat instrument. So suppose you wanna see radiation, we do this all the time. I'm looking at you and I'm seeing radiation, seeing light, but I'm not seeing ultra high energy radiation. I'm seeing eng uh uh radiation in the op electromagnetic waves in the optical spectrum. Meanwhile, I'm also not seeing alpha particles. So what Geiger wanted was a way to detect without using your eyes radiation that's, you know, hard to see. So the way he did this is he, he took a capacitor and he filled the surrounded the capacitor with some noble gas, it doesn't interact. There's no, it's very hard to ionize. And uh if you crank up the potential across his capacitor plate high enough. What do you get a spark? Right? You, you all know this, if you crank up a capacitor eventually breaks down because the dielectric in between breaks down, you get a spontaneous sparking. So what he, what he figured was look if I take a capacitor plane and I charge it up but not quite to break down just to get a good potential. And another charge particle comes flying through like an alpha particle which carries charge plus two, that positive charge will disturb things and will add extra field effectively and lead to the Nucleation of a spark. So the presence of a spark when this potential is not strong enough to induce a spark spontaneously indicates the passage of a charged particle. Geiger worked later with um Marson Mueller Mueller, I guess. Um uh heck I don't even remember and uh and developed this into a device now known as the Geiger counter. Um And so you've probably all seen Simula or seen or heard um Geiger counters going off in movies, right? They go ping, ping, ping, ping, ping, ping, ping, ping, ping, ping, ping, right? They bounce off randomly. This is an extremely important lesson which is tantamo\n"
     ]
    }
   ],
   "source": [
    "s3 = boto3.client('s3')\n",
    "bucket = 'edify-apjc'\n",
    "key = 'quantumtranscribe-output/ExperimentalFactsofLife.json'\n",
    "response = s3.get_object(Bucket=bucket, Key=key)\n",
    "data = json.loads(response['Body'].read().decode('utf-8'))\n",
    "text = data['results']['transcripts'][0]['transcript']\n",
    "print(data['results']['transcripts'][0]['transcript'][7000:9000])\n",
    "#text"
   ]
  },
  {
   "cell_type": "markdown",
   "id": "56524833-f59e-4bbb-adc1-e1c85e8f7eca",
   "metadata": {},
   "source": [
    "lecture 3"
   ]
  },
  {
   "cell_type": "code",
   "execution_count": 26,
   "id": "d731ff19-fbe6-435e-a200-d0065f97440a",
   "metadata": {},
   "outputs": [],
   "source": [
    "transcribe = boto3.client('transcribe')\n",
    "\n",
    "job_name = \"TheWaveFunction\"\n",
    "job_uri = \"s3://edify-apjc/transcribe-input/quantum/Lecture 3_ The Wave Function.mp4\"\n",
    "output_job_uri = \"edify-apjc\"\n",
    "output_loc = \"quantumtranscribe-output/\"\n",
    "response = transcribe.start_transcription_job( \n",
    "    TranscriptionJobName=job_name,\n",
    "    Media={'MediaFileUri': job_uri},\n",
    "    OutputBucketName=output_job_uri,\n",
    "    OutputKey=output_loc,\n",
    "    MediaFormat='mp3',\n",
    "    LanguageCode='en-US')"
   ]
  },
  {
   "cell_type": "code",
   "execution_count": 44,
   "id": "5dadfff0-bda2-47b2-85fe-c590f7a0c5c2",
   "metadata": {},
   "outputs": [
    {
     "data": {
      "text/plain": [
       "16865"
      ]
     },
     "execution_count": 44,
     "metadata": {},
     "output_type": "execute_result"
    }
   ],
   "source": [
    "encoding = tiktoken.get_encoding('cl100k_base')\n",
    "num_tokens = len(encoding.encode(text))\n",
    "num_tokens"
   ]
  },
  {
   "cell_type": "code",
   "execution_count": 45,
   "id": "e35122f9-f939-404f-a991-ad4fd7b44043",
   "metadata": {},
   "outputs": [
    {
     "name": "stdout",
     "output_type": "stream",
     "text": [
      " electrons have both particulate and wave like features simultaneously. So these relations are called the de bru relations. They're de Broli, I leave it up to you to decide how to pronounce that. Uh uh And those relations are gonna play an important role for us in the next few lectures. I just wanna give them a name and a little context. This is a good example of um parsimony and elegance, theoretical elegance um leading you to an idea that turns out to be true of the world. Now, that's a dangerous strategy for finding truth, right? Boy, wouldn't it be nice if, right? Wouldn't it be nice if you know, we didn't have to pay taxes? But we also had Medicare. Um uh But uh but of course, you know, so that's not a terribly useful uh uh guide all the time, but sometimes it really does lead you in the right direction. This is a great example of physical intuition, wildly divorced from experiment pushing you in the right direction. I'm making it sound a little more shocking than, well, it was shocking. It was just shocking. OK. Um So with that said, let me introduce the the moves for the next few lectures, for the next several lectures. Here's what we're gonna do. I am not gonna give you experimental motivation. I've given you experimental motivation. I'm going to give you a set of rules. OK. A set of postulates, these are gonna be the rules of quantum mechanics and what quantum mechanics is for us is a set of rules to allow us to make predictions about the world. OK. And these rules will be awesome if their predictions are good and if their predictions are bad, these rules will suck, right? We will avoid bad rules to the degree possible. I'm gonna give you what we've learned over the past, you know, 100 years. Wow, of developing quantum mechanics. Um That is amazing. Um Wow. OK. Yeah, over the past 100 years of developing quantum mechanics. Um uh and I'm gonna give them to you as a series of postulates and then we're gonna work through the consequences and then we're gonna s\n"
     ]
    }
   ],
   "source": [
    "s3 = boto3.client('s3')\n",
    "bucket = 'edify-apjc'\n",
    "key = 'quantumtranscribe-output/TheWaveFunction.json'\n",
    "response = s3.get_object(Bucket=bucket, Key=key)\n",
    "data = json.loads(response['Body'].read().decode('utf-8'))\n",
    "text = data['results']['transcripts'][0]['transcript']\n",
    "print(data['results']['transcripts'][0]['transcript'][7000:9000])\n",
    "#text"
   ]
  },
  {
   "cell_type": "markdown",
   "id": "cfa39c85-23c8-41f3-b16f-e13d552550af",
   "metadata": {},
   "source": [
    "lecture 5"
   ]
  },
  {
   "cell_type": "code",
   "execution_count": 31,
   "id": "c9972ad0-8349-472b-9d00-9d805238510e",
   "metadata": {},
   "outputs": [],
   "source": [
    "transcribe = boto3.client('transcribe')\n",
    "\n",
    "job_name = \"OperatorsandtheSchrdingerEquation\"\n",
    "job_uri = \"s3://edify-apjc/transcribe-input/quantum/Lecture 5_ Operators and the Schrödinger Equation.mp4\"\n",
    "output_job_uri = \"edify-apjc\"\n",
    "output_loc = \"quantumtranscribe-output/\"\n",
    "response = transcribe.start_transcription_job( \n",
    "    TranscriptionJobName=job_name,\n",
    "    Media={'MediaFileUri': job_uri},\n",
    "    OutputBucketName=output_job_uri,\n",
    "    OutputKey=output_loc,\n",
    "    MediaFormat='mp3',\n",
    "    LanguageCode='en-US')"
   ]
  },
  {
   "cell_type": "code",
   "execution_count": 46,
   "id": "4938f67f-23c6-458b-a056-def2a305ce1d",
   "metadata": {},
   "outputs": [
    {
     "data": {
      "text/plain": [
       "13465"
      ]
     },
     "execution_count": 46,
     "metadata": {},
     "output_type": "execute_result"
    }
   ],
   "source": [
    "encoding = tiktoken.get_encoding('cl100k_base')\n",
    "num_tokens = len(encoding.encode(text))\n",
    "num_tokens"
   ]
  },
  {
   "cell_type": "code",
   "execution_count": 47,
   "id": "f59ce9a9-2f07-4151-8574-e95af84080f1",
   "metadata": {},
   "outputs": [
    {
     "name": "stdout",
     "output_type": "stream",
     "text": [
      "ch you have vectors with two components. So example a vector that has two components V one and V two and the matrices, this is the object and the operators a matrix, a 11812821822 as a operator an M on a vector is a vector. If you add with a matrix on a vector, this two by two matrix on this column vector, you get another vector. So that's the simplest example of operators acting on objects. In our case, we're gonna talk about a more so we're gonna have to begin in quantum mechanics. We're required to begin with a more sophisticated one in which the objects are gonna be object are gonna be functions. In fact, I will write complex functions of X. So let's see the list of operators and what do the operators do? The operators act on the functions. So uh what is an operator is a rule on how to take any function? And you must give a rule on how to obtain from that function, another function. So let's start with the examples is probably the easiest thing to do. So an operator acts on the functions. So an operator for any function F of X will give you another function uh function of X. And here's operator, oh We put the hat sometimes for operators. So the simplest operator operator, the operator won. We always mathematicians love to begin with trivial examples. Some, some don't illustrate anything almost and, and just can confuse you many times. But uh actually, it's good to get them out of the way. So what is the operator one? One possibility? It takes any function and gives you the number one. Do you think that's it? Who thinks it's, that's it? Nobody very good. That definitely said not a good thing to do to give you the number one. So this operator does the following. I will write it like that. The operator one takes F of X and gives you what F of X correct good. So it's a very simple operator, but it's an operator. It's like what matrix, the identity matrix. Very good. There could be a zero operator that gives you nothing and it would be the zero matrix. So let's write\n"
     ]
    }
   ],
   "source": [
    "s3 = boto3.client('s3')\n",
    "bucket = 'edify-apjc'\n",
    "key = 'quantumtranscribe-output/OperatorsandtheSchrdingerEquation.json'\n",
    "response = s3.get_object(Bucket=bucket, Key=key)\n",
    "data = json.loads(response['Body'].read().decode('utf-8'))\n",
    "text = data['results']['transcripts'][0]['transcript']\n",
    "print(data['results']['transcripts'][0]['transcript'][7000:9000])\n",
    "#text"
   ]
  },
  {
   "cell_type": "markdown",
   "id": "660f97d4-5d5b-4e4f-baef-1ba0e6818cc1",
   "metadata": {},
   "source": [
    "lecture 6"
   ]
  },
  {
   "cell_type": "code",
   "execution_count": 35,
   "id": "35257f6c-5227-4e41-bf59-2ceab85a2e77",
   "metadata": {},
   "outputs": [],
   "source": [
    "transcribe = boto3.client('transcribe')\n",
    "\n",
    "job_name = \"TimeEvolutionandtheSchrdingerEquation\"\n",
    "job_uri = \"s3://edify-apjc/transcribe-input/quantum/Lecture 6_ Time Evolution and the Schrödinger Equation.mp4\"\n",
    "output_job_uri = \"edify-apjc\"\n",
    "output_loc = \"quantumtranscribe-output/\"\n",
    "response = transcribe.start_transcription_job( \n",
    "    TranscriptionJobName=job_name,\n",
    "    Media={'MediaFileUri': job_uri},\n",
    "    OutputBucketName=output_job_uri,\n",
    "    OutputKey=output_loc,\n",
    "    MediaFormat='mp3',\n",
    "    LanguageCode='en-US')"
   ]
  },
  {
   "cell_type": "code",
   "execution_count": 48,
   "id": "31b3f14f-5d41-4720-b8a5-b2385a871432",
   "metadata": {},
   "outputs": [
    {
     "data": {
      "text/plain": [
       "10984"
      ]
     },
     "execution_count": 48,
     "metadata": {},
     "output_type": "execute_result"
    }
   ],
   "source": [
    "encoding = tiktoken.get_encoding('cl100k_base')\n",
    "num_tokens = len(encoding.encode(text))\n",
    "num_tokens"
   ]
  },
  {
   "cell_type": "code",
   "execution_count": 49,
   "id": "b4125d66-7a79-466c-9741-cecf2c341f92",
   "metadata": {},
   "outputs": [
    {
     "name": "stdout",
     "output_type": "stream",
     "text": [
      "ed as a superposition of those Eigen functions of your physical observable. We'll go over this in more detail in a minute. But here I want to emphasize that uh these, that the Eigen functions have a special property that for observables, for operators corresponding to observables. The Eigen functions form a basis. Any function can be expanded as some linear combination of these basis functions. The classic example being the fourier expansion, any function, any periodic function can be expanded as a sum of sines and cosines and any function on the real line can be expanded as a sum of exponentials E to the IKX. This is the same statement the Eigen functions of momentum are what even the IKX. And so this is the statement that an arbitrary function when the observable is the momentum. This is the statement that an arbitrary function can be expanded as a superposition or a sum of exponentials. And that's the 48. The cool. Was there a question? OK. Good. Yeah. OK. Other questions on these points. So these should not yet be trivial and obvious to you if they are, then that's great. But if they're not, we're gonna be working through examples for the next several lectures and problem sets the point now is to give you AAA grounding on which to stand fourth postulate what these expansion coefficients mean, right. And this is also an interpretation of the meaning of the wave function. What these expansion coefficients mean is that the probability that I measure the observable to be a particular eigenvalue is the norm squared of the expansion coefficient. OK. So I tell you that any function can be expanded as a superposition of plane waves waves with definite momentum with some coefficients. And those coefficients depend on which function I'm talking about. What these coefficients tell me is the probability that I will measure the momentum to be the associated value the eigenvalue. OK. Take that coefficient, take its norm squared that gives me the probability. How do we compute\n"
     ]
    }
   ],
   "source": [
    "s3 = boto3.client('s3')\n",
    "bucket = 'edify-apjc'\n",
    "key = 'quantumtranscribe-output/TimeEvolutionandtheSchrdingerEquation.json'\n",
    "response = s3.get_object(Bucket=bucket, Key=key)\n",
    "data = json.loads(response['Body'].read().decode('utf-8'))\n",
    "text = data['results']['transcripts'][0]['transcript']\n",
    "print(data['results']['transcripts'][0]['transcript'][7000:9000])\n",
    "#text"
   ]
  },
  {
   "cell_type": "markdown",
   "id": "a4aa13d5-8a22-4ac0-a3a9-b5a0cb7e4aee",
   "metadata": {},
   "source": [
    "Lecture 7"
   ]
  },
  {
   "cell_type": "code",
   "execution_count": 38,
   "id": "89745176-4417-4e83-8c1d-108d4c432dd8",
   "metadata": {},
   "outputs": [],
   "source": [
    "transcribe = boto3.client('transcribe')\n",
    "\n",
    "job_name = \"MoreonEnergyEigenstates\"\n",
    "job_uri = \"s3://edify-apjc/transcribe-input/quantum/Lecture 7_ More on Energy Eigenstates.mp4\"\n",
    "output_job_uri = \"edify-apjc\"\n",
    "output_loc = \"quantumtranscribe-output/\"\n",
    "response = transcribe.start_transcription_job( \n",
    "    TranscriptionJobName=job_name,\n",
    "    Media={'MediaFileUri': job_uri},\n",
    "    OutputBucketName=output_job_uri,\n",
    "    OutputKey=output_loc,\n",
    "    MediaFormat='mp3',\n",
    "    LanguageCode='en-US')"
   ]
  },
  {
   "cell_type": "code",
   "execution_count": 50,
   "id": "e1ab875d-fa5c-46f4-932e-368958603396",
   "metadata": {},
   "outputs": [
    {
     "data": {
      "text/plain": [
       "16690"
      ]
     },
     "execution_count": 50,
     "metadata": {},
     "output_type": "execute_result"
    }
   ],
   "source": [
    "encoding = tiktoken.get_encoding('cl100k_base')\n",
    "num_tokens = len(encoding.encode(text))\n",
    "num_tokens"
   ]
  },
  {
   "cell_type": "code",
   "execution_count": 51,
   "id": "27547d9f-ff95-426d-b247-07a24d44e0d9",
   "metadata": {},
   "outputs": [
    {
     "name": "stdout",
     "output_type": "stream",
     "text": [
      " this is equal to from both of these, I get an overall factor of E one. So notice that we get the same vector back times a constant, a common constant. So when we have degenerate Eigen functions, we can take arbitrary linear combinations to them get another degenerate Eigen function cool. So this is like imagine I have a vector and I have another vector and they share the property that they're both Eigen functions of some operator. That means any linear combination of them is also right. So there's a whole vector space, there's a whole space of possible functions that all have the same eigenvalue. So now you say, well look are these two orthogonal to each other. No, these two, no. But here's the thing. If you have a vector space, if you have a space, you can always find orthogonal guys and a basis for that space. Yes. So while it's not true that the, the Eigen functions are always orthogonal, it is true, we will not prove this, but we will discuss the proof of it later by pulling the mathematician out of the closet. Um uh The proof will say that it is possible to find a set of Eigen functions which are orthogonal in precisely this fashion, even if there are degeneracy. OK. That theorem is called the spectral theorem and we'll, we'll discuss it later. Um So it is always possible to do so, but you must be alert that there may be degeneracy, there aren't always degeneracy. In fact, degeneracy are very special. Why should two numbers happen to be the same? Um Something has to be forcing them to be the same. And then that that's gonna be an important theme for us. But but it certainly is possible. Good question other questions. Yeah, all the patient. So I said in my, yeah. So using the triangular brackets, it is a is a. So there's another notation for the same thing which is FG but this carries some slightly different weight. It means something slightly, you'll see this in books and this means something very similar to this. But I'm not gonna use this notation. It's call\n"
     ]
    }
   ],
   "source": [
    "s3 = boto3.client('s3')\n",
    "bucket = 'edify-apjc'\n",
    "key = 'quantumtranscribe-output/MoreonEnergyEigenstates.json'\n",
    "response = s3.get_object(Bucket=bucket, Key=key)\n",
    "data = json.loads(response['Body'].read().decode('utf-8'))\n",
    "text = data['results']['transcripts'][0]['transcript']\n",
    "print(data['results']['transcripts'][0]['transcript'][7000:9000])\n",
    "#text"
   ]
  },
  {
   "cell_type": "markdown",
   "id": "a8dd8d0d-c81e-4e3c-ba8b-04d33b26a0f4",
   "metadata": {},
   "source": [
    "### Step 4: Adding botany content as a separate job/location"
   ]
  },
  {
   "cell_type": "code",
   "execution_count": 41,
   "id": "a13ccec2-1a8c-4aca-83fe-5b3651cee888",
   "metadata": {},
   "outputs": [],
   "source": [
    "transcribe = boto3.client('transcribe')\n",
    "\n",
    "job_name = \"IntroductiontoBotany\"\n",
    "job_uri = \"s3://edify-apjc/transcribe-input/botany/Introduction to Botany.mp4\"\n",
    "output_job_uri = \"edify-apjc\"\n",
    "output_loc = \"botanytranscribe-output/\"\n",
    "response = transcribe.start_transcription_job( \n",
    "    TranscriptionJobName=job_name,\n",
    "    Media={'MediaFileUri': job_uri},\n",
    "    OutputBucketName=output_job_uri,\n",
    "    OutputKey=output_loc,\n",
    "    MediaFormat='mp3',\n",
    "    LanguageCode='en-US')"
   ]
  },
  {
   "cell_type": "code",
   "execution_count": 55,
   "id": "da7871b0-a382-4a1d-a388-851980abc456",
   "metadata": {},
   "outputs": [
    {
     "data": {
      "text/plain": [
       "690"
      ]
     },
     "execution_count": 55,
     "metadata": {},
     "output_type": "execute_result"
    }
   ],
   "source": [
    "encoding = tiktoken.get_encoding('cl100k_base')\n",
    "num_tokens = len(encoding.encode(text))\n",
    "num_tokens"
   ]
  },
  {
   "cell_type": "code",
   "execution_count": 56,
   "id": "30f840a5-2de1-4bb9-9f7d-daf9e7d378f0",
   "metadata": {},
   "outputs": [
    {
     "name": "stdout",
     "output_type": "stream",
     "text": [
      "A lot about the science star da explains. In my biology series, we learned all about biology, which is the study of all living things there. We came to understand what cells are and how they function as well as what it means to be alive. We've also learned about biochemistry in my biochemistry series. So we know about the molecular components of cells and we understand how chemical processes occur within cells, including how energy is produced. And in my classical physics series, we learned all about energy conservation and the ways that energy can be converted from one form to another through all of the biological activity that occurs every day, all over the world. But all of this begs the \n"
     ]
    }
   ],
   "source": [
    "s3 = boto3.client('s3')\n",
    "bucket = 'edify-apjc'\n",
    "key = 'botanytranscribe-output/IntroductiontoBotany.json'\n",
    "response = s3.get_object(Bucket=bucket, Key=key)\n",
    "data = json.loads(response['Body'].read().decode('utf-8'))\n",
    "text = data['results']['transcripts'][0]['transcript']\n",
    "print(data['results']['transcripts'][0]['transcript'][:700])\n",
    "#text"
   ]
  },
  {
   "cell_type": "markdown",
   "id": "864b7bea-e3be-4b58-9012-c14d2d1ce9c6",
   "metadata": {},
   "source": [
    "lecture 2"
   ]
  },
  {
   "cell_type": "code",
   "execution_count": 57,
   "id": "e97a4c17-8759-4001-ae0f-dfa22ea79ec2",
   "metadata": {},
   "outputs": [],
   "source": [
    "transcribe = boto3.client('transcribe')\n",
    "\n",
    "job_name = \"MechanismsofPlantGrowth\"\n",
    "job_uri = \"s3://edify-apjc/transcribe-input/botany/Mechanisms of Plant Growth.mp4\"\n",
    "output_job_uri = \"edify-apjc\"\n",
    "output_loc = \"botanytranscribe-output/\"\n",
    "response = transcribe.start_transcription_job( \n",
    "    TranscriptionJobName=job_name,\n",
    "    Media={'MediaFileUri': job_uri},\n",
    "    OutputBucketName=output_job_uri,\n",
    "    OutputKey=output_loc,\n",
    "    MediaFormat='mp3',\n",
    "    LanguageCode='en-US')"
   ]
  },
  {
   "cell_type": "markdown",
   "id": "d1220cff-a504-4127-ab4d-923face21420",
   "metadata": {},
   "source": [
    "Lecture 3"
   ]
  },
  {
   "cell_type": "code",
   "execution_count": 58,
   "id": "f99da6bf-5ba6-4042-980a-a4e510433ef4",
   "metadata": {},
   "outputs": [],
   "source": [
    "\n",
    "transcribe = boto3.client('transcribe')\n",
    "\n",
    "job_name = \"PlantAnatomyandStructure\"\n",
    "job_uri = \"s3://edify-apjc/transcribe-input/botany/Plant Anatomy and Structure.mp4\"\n",
    "output_job_uri = \"edify-apjc\"\n",
    "output_loc = \"botanytranscribe-output/\"\n",
    "response = transcribe.start_transcription_job( \n",
    "    TranscriptionJobName=job_name,\n",
    "    Media={'MediaFileUri': job_uri},\n",
    "    OutputBucketName=output_job_uri,\n",
    "    OutputKey=output_loc,\n",
    "    MediaFormat='mp3',\n",
    "    LanguageCode='en-US')"
   ]
  },
  {
   "cell_type": "markdown",
   "id": "3dd46b83-3244-48ed-bb6b-94180420141c",
   "metadata": {},
   "source": [
    "lecture 4"
   ]
  },
  {
   "cell_type": "code",
   "execution_count": 60,
   "id": "b47e6727-f4db-4183-892f-90d5bf26f19c",
   "metadata": {},
   "outputs": [],
   "source": [
    "\n",
    "transcribe = boto3.client('transcribe')\n",
    "\n",
    "job_name = \"PlantPigments\"\n",
    "job_uri = \"s3://edify-apjc/transcribe-input/botany/Plant Pigments.mp4\"\n",
    "output_job_uri = \"edify-apjc\"\n",
    "output_loc = \"botanytranscribe-output/\"\n",
    "response = transcribe.start_transcription_job( \n",
    "    TranscriptionJobName=job_name,\n",
    "    Media={'MediaFileUri': job_uri},\n",
    "    OutputBucketName=output_job_uri,\n",
    "    OutputKey=output_loc,\n",
    "    MediaFormat='mp3',\n",
    "    LanguageCode='en-US')"
   ]
  },
  {
   "cell_type": "markdown",
   "id": "67e56640-ad42-4ece-a89f-7736f07f1908",
   "metadata": {},
   "source": [
    "lecture 5"
   ]
  },
  {
   "cell_type": "code",
   "execution_count": 61,
   "id": "b6a7ac42-5246-434b-ac0d-47ef4deb9066",
   "metadata": {},
   "outputs": [],
   "source": [
    "\n",
    "transcribe = boto3.client('transcribe')\n",
    "\n",
    "job_name = \"TypesofPlantCells\"\n",
    "job_uri = \"s3://edify-apjc/transcribe-input/botany/Types of Plant Cells.mp4\"\n",
    "output_job_uri = \"edify-apjc\"\n",
    "output_loc = \"botanytranscribe-output/\"\n",
    "response = transcribe.start_transcription_job( \n",
    "    TranscriptionJobName=job_name,\n",
    "    Media={'MediaFileUri': job_uri},\n",
    "    OutputBucketName=output_job_uri,\n",
    "    OutputKey=output_loc,\n",
    "    MediaFormat='mp3',\n",
    "    LanguageCode='en-US')"
   ]
  },
  {
   "cell_type": "markdown",
   "id": "03303577-304b-488e-a918-2dac684f4d7d",
   "metadata": {},
   "source": [
    "Lecture 6"
   ]
  },
  {
   "cell_type": "code",
   "execution_count": 62,
   "id": "4ce0bb8f-ad44-4191-8c57-eb7d15c7271d",
   "metadata": {},
   "outputs": [],
   "source": [
    "transcribe = boto3.client('transcribe')\n",
    "\n",
    "job_name = \"TypesofPlantTissues\"\n",
    "job_uri = \"s3://edify-apjc/transcribe-input/botany/Types of Plant Tissues.mp4\"\n",
    "output_job_uri = \"edify-apjc\"\n",
    "output_loc = \"botanytranscribe-output/\"\n",
    "response = transcribe.start_transcription_job( \n",
    "    TranscriptionJobName=job_name,\n",
    "    Media={'MediaFileUri': job_uri},\n",
    "    OutputBucketName=output_job_uri,\n",
    "    OutputKey=output_loc,\n",
    "    MediaFormat='mp3',\n",
    "    LanguageCode='en-US')"
   ]
  },
  {
   "cell_type": "code",
   "execution_count": 72,
   "id": "231eb0c0-eb87-4e4b-b20b-93429b63fe7b",
   "metadata": {},
   "outputs": [
    {
     "data": {
      "text/plain": [
       "2116"
      ]
     },
     "execution_count": 72,
     "metadata": {},
     "output_type": "execute_result"
    }
   ],
   "source": [
    "encoding = tiktoken.get_encoding('cl100k_base')\n",
    "num_tokens = len(encoding.encode(text))\n",
    "num_tokens"
   ]
  },
  {
   "cell_type": "code",
   "execution_count": 73,
   "id": "7a363173-e14c-4710-80a8-7144f5ef58f3",
   "metadata": {},
   "outputs": [
    {
     "name": "stdout",
     "output_type": "stream",
     "text": [
      "ponsible for the photosynthetic layer in leaves called the mesophyll where the plant performs gas exchange and creates sugars, making its own food pereny tissue is also how a plant stores excess energy in the form of starches, which are complex polysaccharides. Starch filled, pereny tissue can be found in a plant's roots and pereny. A tissue also makes up the majority of a seed so that the starches can feed the embryonic plant until it's able to photosynthesize on its own. Additionally, pereny tissue is so prevalent throughout a plant that it also takes on the role of growing to cover wounds and replace other tissues lost through physical trauma or disease. Wound closure is an important function for plants just like it is for us. Because if a plant has an open wound, then all sorts of pathogens like fungi and bacteria could invade the plant and quickly kill it. The other two subtypes of ground tissue, ground Kenya tissue and ground sclerenchyma tissue are also composed of cells by the \n"
     ]
    }
   ],
   "source": [
    "s3 = boto3.client('s3')\n",
    "bucket = 'edify-apjc'\n",
    "key = 'botanytranscribe-output/TypesofPlantTissues.json'\n",
    "response = s3.get_object(Bucket=bucket, Key=key)\n",
    "data = json.loads(response['Body'].read().decode('utf-8'))\n",
    "text = data['results']['transcripts'][0]['transcript']\n",
    "print(data['results']['transcripts'][0]['transcript'][1000:2000])\n",
    "#text"
   ]
  },
  {
   "cell_type": "markdown",
   "id": "c2d884a0-8540-43b8-b581-7b30e58ce905",
   "metadata": {},
   "source": [
    "### Step 6: Experimenting with anthropic claude 3.5"
   ]
  },
  {
   "cell_type": "code",
   "execution_count": 90,
   "id": "59b3f347-4244-4100-8bdb-31815c66e440",
   "metadata": {},
   "outputs": [
    {
     "name": "stdout",
     "output_type": "stream",
     "text": [
      "Here is a summary of the text in bullet points:\n",
      "\n",
      "- Three main types of plant tissues:\n",
      "    - Ground tissue (parenchyma, collenchyma, sclerenchyma)\n",
      "    - Dermal tissue (epidermis, cuticle, stomata, guard cells)\n",
      "    - Vascular tissue (xylem, phloem)\n",
      "\n",
      "- Ground tissue:\n",
      "    - Parenchyma - photosynthesis, energy storage, wound healing\n",
      "    - Collenchyma and sclerenchyma - structural support\n",
      "\n",
      "- Dermal tissue:\n",
      "    - Epidermis - protective layer, cuticle secretion\n",
      "    - Stomata - gas exchange openings, controlled by guard cells\n",
      "    - Periderm and bark in older plants\n",
      "\n",
      "- Vascular tissue:\n",
      "    - Xylem - water and mineral transport upwards\n",
      "    - Phloem - sugar transport from sources to sinks\n",
      "    - Transpiration and translocation drive xylem and phloem transport\n",
      "\n",
      "- Tissues organize into organs like roots, stems, leaves\n"
     ]
    }
   ],
   "source": [
    "import boto3\n",
    "import json\n",
    "from botocore.exceptions import ClientError\n",
    "\n",
    "# Initialize S3 and Bedrock clients\n",
    "s3 = boto3.client('s3')\n",
    "bedrock = boto3.client(service_name='bedrock-runtime')\n",
    "\n",
    "# S3 bucket and object details\n",
    "bucket_name = 'edify-apjc'\n",
    "object_key = 'botanytranscribe-output/TypesofPlantTissues.json'\n",
    "\n",
    "modelId = 'anthropic.claude-3-sonnet-20240229-v1:0'\n",
    "accept = 'application/json'\n",
    "contentType = 'application/json'\n",
    "\n",
    "def read_json_from_s3(bucket, key):\n",
    "    try:\n",
    "        response = s3.get_object(Bucket=bucket, Key=key)\n",
    "        json_content = json.loads(response['Body'].read().decode('utf-8'))\n",
    "        return json_content\n",
    "    except ClientError as e:\n",
    "        print(f\"An error occurred: {e}\")\n",
    "        return None\n",
    "    except json.JSONDecodeError:\n",
    "        print(f\"The file {key} is not a valid JSON.\")\n",
    "        return None\n",
    "\n",
    "# Read the JSON from S3\n",
    "json_data = read_json_from_s3(bucket_name, object_key)\n",
    "\n",
    "if json_data is None:\n",
    "    print(\"Failed to retrieve or parse JSON from S3.\")\n",
    "else:\n",
    "    # Function to extract text from nested JSON\n",
    "    def extract_text(data):\n",
    "        if isinstance(data, dict):\n",
    "            for value in data.values():\n",
    "                text = extract_text(value)\n",
    "                if text:\n",
    "                    return text\n",
    "        elif isinstance(data, list):\n",
    "            for item in data:\n",
    "                text = extract_text(item)\n",
    "                if text:\n",
    "                    return text\n",
    "        elif isinstance(data, str) and len(data) > 100:  # Assuming the text content is relatively long\n",
    "            return data\n",
    "        return None\n",
    "\n",
    "    text_to_summarize = extract_text(json_data)\n",
    "    \n",
    "    if not text_to_summarize:\n",
    "        print(\"No suitable text found in the JSON to summarize.\")\n",
    "    else:\n",
    "        # Prepare the request body for the Messages API\n",
    "        messages = [\n",
    "            {\n",
    "                \"role\": \"user\",\n",
    "                \"content\": [\n",
    "                    {\n",
    "                        \"type\": \"text\",\n",
    "                        \"text\": f\"Summarize the following text in a concise manner. Write the response in bullet points.\\n\\n{text_to_summarize}\"\n",
    "                    }\n",
    "                ]\n",
    "            }\n",
    "        ]\n",
    "\n",
    "        body = json.dumps({\n",
    "            \"anthropic_version\": \"bedrock-2023-05-31\",\n",
    "            \"max_tokens\": 1000,\n",
    "             \"temperature\": 0.1,\n",
    "             \"top_p\": 0.5,\n",
    "            \"messages\": messages\n",
    "        })\n",
    "\n",
    "        try:\n",
    "            response = bedrock.invoke_model(\n",
    "                body=body,\n",
    "                modelId=modelId,\n",
    "                accept=accept,\n",
    "                contentType=contentType\n",
    "            )\n",
    "\n",
    "            response_body = json.loads(response['body'].read())\n",
    "\n",
    "            # Extract the assistant's response\n",
    "            assistant_message = response_body['content'][0]['text']\n",
    "            print(assistant_message)\n",
    "        except Exception as e:\n",
    "            print(f\"An error occurred while invoking the model: {e}\")"
   ]
  },
  {
   "cell_type": "markdown",
   "id": "8253d302-556c-45c4-bda2-f1c9f273c020",
   "metadata": {},
   "source": [
    "### Step 7 : Summarizing a quantum lecture content"
   ]
  },
  {
   "cell_type": "code",
   "execution_count": 94,
   "id": "cc46c6bd-d8ba-43f6-8bd6-89cc11f26eec",
   "metadata": {},
   "outputs": [
    {
     "name": "stdout",
     "output_type": "stream",
     "text": [
      "Here are the key points summarized in bullet form:\n",
      "\n",
      "- Solving the Schrödinger equation can be done via brute force, extreme cleverness, or numerically\n",
      "- For an energy eigenstate, the wavefunction only changes by a phase factor over time\n",
      "- Any wavefunction can be expressed as a superposition of energy eigenstates\n",
      "- The expansion coefficients give the probability of measuring each energy eigenvalue\n",
      "- Example 1: Free particle - energy eigenfunctions are plane waves\n",
      "- Example 2: Particle in a box \n",
      "    - Energy eigenvalues are quantized (discrete)\n",
      "    - Ground state energy is non-zero\n",
      "    - Energy levels get further apart for higher energies\n",
      "- Quantization of energy levels connects to experimental observations like emission spectra of atoms\n"
     ]
    }
   ],
   "source": [
    "import boto3\n",
    "import json\n",
    "from botocore.exceptions import ClientError\n",
    "\n",
    "# Initialize S3 and Bedrock clients\n",
    "s3 = boto3.client('s3')\n",
    "bedrock = boto3.client(service_name='bedrock-runtime')\n",
    "\n",
    "# S3 bucket and object details\n",
    "bucket_name = 'edify-apjc'\n",
    "object_key = 'quantumtranscribe-output/TimeEvolutionandtheSchrdingerEquation.json'  \n",
    "\n",
    "modelId = 'anthropic.claude-3-sonnet-20240229-v1:0'\n",
    "accept = 'application/json'\n",
    "contentType = 'application/json'\n",
    "\n",
    "def read_json_from_s3(bucket, key):\n",
    "    try:\n",
    "        response = s3.get_object(Bucket=bucket, Key=key)\n",
    "        json_content = json.loads(response['Body'].read().decode('utf-8'))\n",
    "        return json_content\n",
    "    except ClientError as e:\n",
    "        print(f\"An error occurred: {e}\")\n",
    "        return None\n",
    "    except json.JSONDecodeError:\n",
    "        print(f\"The file {key} is not a valid JSON.\")\n",
    "        return None\n",
    "\n",
    "# Read the JSON from S3\n",
    "json_data = read_json_from_s3(bucket_name, object_key)\n",
    "\n",
    "if json_data is None:\n",
    "    print(\"Failed to retrieve or parse JSON from S3.\")\n",
    "else:\n",
    "    # Function to extract text from nested JSON\n",
    "    def extract_text(data):\n",
    "        if isinstance(data, dict):\n",
    "            for value in data.values():\n",
    "                text = extract_text(value)\n",
    "                if text:\n",
    "                    return text\n",
    "        elif isinstance(data, list):\n",
    "            for item in data:\n",
    "                text = extract_text(item)\n",
    "                if text:\n",
    "                    return text\n",
    "        elif isinstance(data, str) and len(data) > 100:  # Assuming the text content is relatively long\n",
    "            return data\n",
    "        return None\n",
    "\n",
    "    text_to_summarize = extract_text(json_data)\n",
    "    \n",
    "    if not text_to_summarize:\n",
    "        print(\"No suitable text found in the JSON to summarize.\")\n",
    "    else:\n",
    "        # Prepare the request body for the Messages API\n",
    "        messages = [\n",
    "            {\n",
    "                \"role\": \"user\",\n",
    "                \"content\": [\n",
    "                    {\n",
    "                        \"type\": \"text\",\n",
    "                        \"text\": f\"Summarize the following text in a concise manner. Write the response in bullet points.\\n\\n{text_to_summarize}\"\n",
    "                    }\n",
    "                ]\n",
    "            }\n",
    "        ]\n",
    "\n",
    "        body = json.dumps({\n",
    "            \"anthropic_version\": \"bedrock-2023-05-31\",\n",
    "            \"max_tokens\": 1000,\n",
    "             \"temperature\": 0.1,\n",
    "             \"top_p\": 0.5,\n",
    "            \"messages\": messages\n",
    "        })\n",
    "\n",
    "        try:\n",
    "            response = bedrock.invoke_model(\n",
    "                body=body,\n",
    "                modelId=modelId,\n",
    "                accept=accept,\n",
    "                contentType=contentType\n",
    "            )\n",
    "\n",
    "            response_body = json.loads(response['body'].read())\n",
    "\n",
    "            # Extract the assistant's response\n",
    "            assistant_message = response_body['content'][0]['text']\n",
    "            print(assistant_message)\n",
    "        except Exception as e:\n",
    "            print(f\"An error occurred while invoking the model: {e}\")"
   ]
  },
  {
   "cell_type": "markdown",
   "id": "fc1fb66e-529d-4085-978a-8d03241fa619",
   "metadata": {},
   "source": [
    "### Step 8 : q & a service test\n"
   ]
  },
  {
   "cell_type": "code",
   "execution_count": 101,
   "id": "12683efe-cbfa-46bd-b804-c652b226efe6",
   "metadata": {},
   "outputs": [
    {
     "name": "stdout",
     "output_type": "stream",
     "text": [
      "\n",
      "Initial Response:\n",
      "Yes, I have read through the provided content on solving the Schrödinger equation and understanding energy eigenfunctions and eigenvalues in quantum mechanics. I am ready to answer questions related to this material.\n"
     ]
    },
    {
     "name": "stdout",
     "output_type": "stream",
     "text": [
      "\n",
      "Do you have a question about the content? (yes/no):  yes\n",
      "Enter your question:  how does the lecture relate time and schrodinger equation?\n"
     ]
    },
    {
     "name": "stdout",
     "output_type": "stream",
     "text": [
      "\n",
      "Response:\n",
      "The lecture discusses how the Schrödinger equation governs the time evolution of the wavefunction in quantum mechanics. Some key points about time evolution from the Schrödinger equation:\n",
      "\n",
      "1. The Schrödinger equation is a first-order linear differential equation for the time derivative of the wavefunction Ψ(x,t):\n",
      "\n",
      "iħ ∂Ψ/∂t = ĤΨ\n",
      "\n",
      "Where Ĥ is the Hamiltonian operator representing the total energy of the system.\n",
      "\n",
      "2. For a state that is an energy eigenfunction Ψ = φE with eigenvalue E, the time evolution is simple:\n",
      "\n",
      "Ψ(x,t) = φE(x)e^(-iEt/ħ)\n",
      "\n",
      "The wavefunction just picks up a phase factor that oscillates at a frequency E/ħ.\n",
      "\n",
      "3. Using the superposition principle, the general solution for an arbitrary initial state Ψ(x,0) can be written as a linear combination of energy eigenfunctions:\n",
      "\n",
      "Ψ(x,t) = Σn cn φEn(x) e^(-iEnt/ħ)\n",
      "\n",
      "Where the coefficients cn determine the probability to measure each energy eigenvalue En.\n",
      "\n",
      "4. This shows that the Schrödinger equation provides deterministic, unitary time evolution - if the initial state is fully known, the state at any later time is determined.\n",
      "\n",
      "So in summary, the linear Schrödinger equation allows one to calculate the complete time evolution of quantum states from an initial condition, highlighting the deterministic yet probabilistic nature of quantum theory.\n"
     ]
    },
    {
     "name": "stdout",
     "output_type": "stream",
     "text": [
      "\n",
      "Do you have a question about the content? (yes/no):  yes\n",
      "Enter your question:  what does the lecture say about of plant tissues?\n"
     ]
    },
    {
     "name": "stdout",
     "output_type": "stream",
     "text": [
      "\n",
      "Response:\n",
      "The lecture does not mention anything about plant tissues. It is focused entirely on solving the Schrödinger equation in quantum mechanics and discussing the time evolution of wavefunctions, energy eigenfunctions and eigenvalues for simple systems like a free particle and a particle in an infinite square well potential. There is no discussion of plant tissues or anything related to plants or biology in this lecture content.\n"
     ]
    },
    {
     "name": "stdout",
     "output_type": "stream",
     "text": [
      "\n",
      "Do you have a question about the content? (yes/no):  no\n"
     ]
    },
    {
     "name": "stdout",
     "output_type": "stream",
     "text": [
      "Thank you for using the Q&A service!\n"
     ]
    }
   ],
   "source": [
    "import boto3\n",
    "import json\n",
    "\n",
    "# Initialize Bedrock client\n",
    "bedrock = boto3.client(service_name='bedrock-runtime')\n",
    "\n",
    "modelId = 'anthropic.claude-3-sonnet-20240229-v1:0'\n",
    "accept = 'application/json'\n",
    "contentType = 'application/json'\n",
    "\n",
    "def invoke_bedrock_model(messages):\n",
    "    body = json.dumps({\n",
    "        \"anthropic_version\": \"bedrock-2023-05-31\",\n",
    "        \"max_tokens\": 1000,\n",
    "        \"temperature\": 0.1,\n",
    "        \"top_p\": 0.5,\n",
    "        \"messages\": messages\n",
    "    })\n",
    "\n",
    "    try:\n",
    "        response = bedrock.invoke_model(\n",
    "            body=body,\n",
    "            modelId=modelId,\n",
    "            accept=accept,\n",
    "            contentType=contentType\n",
    "        )\n",
    "\n",
    "        response_body = json.loads(response['body'].read())\n",
    "        return response_body['content'][0]['text']\n",
    "    except Exception as e:\n",
    "        print(f\"An error occurred while invoking the model: {e}\")\n",
    "        return None\n",
    "\n",
    "# Ensure text_to_summarize is defined and contains the full content\n",
    "# If it's not already defined, uncomment and fill in the following line:\n",
    "# text_to_summarize = \"\"\"Paste your original text here\"\"\"\n",
    "\n",
    "# Check if text_to_summarize is defined and not empty\n",
    "if 'text_to_summarize' not in locals() or not text_to_summarize.strip():\n",
    "    print(\"Error: text_to_summarize is not defined or is empty.\")\n",
    "    text_to_summarize = input(\"Please paste the original content here: \")\n",
    "\n",
    "# Initialize conversation history with the original text\n",
    "messages = [\n",
    "    {\"role\": \"user\", \"content\": [{\"type\": \"text\", \"text\": f\"Here's the content for reference. Please acknowledge that you've read it and are ready to answer questions about it:\\n\\n{text_to_summarize}\"}]},\n",
    "]\n",
    "\n",
    "# Get initial acknowledgment from the model\n",
    "response = invoke_bedrock_model(messages)\n",
    "print(\"\\nInitial Response:\")\n",
    "print(response)\n",
    "\n",
    "messages.append({\"role\": \"assistant\", \"content\": [{\"type\": \"text\", \"text\": response}]})\n",
    "\n",
    "# Follow-up questions loop\n",
    "while True:\n",
    "    follow_up = input(\"\\nDo you have a question about the content? (yes/no): \").lower()\n",
    "    if follow_up != 'yes':\n",
    "        break\n",
    "\n",
    "    question = input(\"Enter your question: \")\n",
    "    messages.append({\"role\": \"user\", \"content\": [{\"type\": \"text\", \"text\": question}]})\n",
    "\n",
    "    response = invoke_bedrock_model(messages)\n",
    "    print(\"\\nResponse:\")\n",
    "    print(response)\n",
    "\n",
    "    # Add the model's response to the conversation history\n",
    "    messages.append({\"role\": \"assistant\", \"content\": [{\"type\": \"text\", \"text\": response}]})\n",
    "\n",
    "print(\"Thank you for using the Q&A service!\")"
   ]
  },
  {
   "cell_type": "markdown",
   "id": "6d696598-6cae-4673-b27a-261e99dbdcf6",
   "metadata": {},
   "source": [
    "cannot answer question on biology which is a different content"
   ]
  },
  {
   "cell_type": "markdown",
   "id": "d2c160d8-0dc8-4a2c-9bf3-fa5ec6436a6d",
   "metadata": {},
   "source": [
    "### Step 9: creating a vector DB for RAG"
   ]
  },
  {
   "cell_type": "code",
   "execution_count": 105,
   "id": "cd350449-d6ec-401a-b482-71abfef354df",
   "metadata": {},
   "outputs": [
    {
     "name": "stdout",
     "output_type": "stream",
     "text": [
      "Collecting opensearch-py==2.3.1\n",
      "  Downloading opensearch_py-2.3.1-py2.py3-none-any.whl.metadata (6.9 kB)\n",
      "Collecting urllib3<2,>=1.21.1 (from opensearch-py==2.3.1)\n",
      "  Downloading urllib3-1.26.19-py2.py3-none-any.whl.metadata (49 kB)\n",
      "\u001b[2K     \u001b[90m━━━━━━━━━━━━━━━━━━━━━━━━━━━━━━━━━━━━━━━━\u001b[0m \u001b[32m49.3/49.3 kB\u001b[0m \u001b[31m4.2 MB/s\u001b[0m eta \u001b[36m0:00:00\u001b[0m\n",
      "\u001b[?25hRequirement already satisfied: requests<3.0.0,>=2.4.0 in /opt/conda/lib/python3.10/site-packages (from opensearch-py==2.3.1) (2.32.3)\n",
      "Requirement already satisfied: six in /opt/conda/lib/python3.10/site-packages (from opensearch-py==2.3.1) (1.16.0)\n",
      "Requirement already satisfied: python-dateutil in /opt/conda/lib/python3.10/site-packages (from opensearch-py==2.3.1) (2.9.0.post0)\n",
      "Requirement already satisfied: certifi>=2022.12.07 in /opt/conda/lib/python3.10/site-packages (from opensearch-py==2.3.1) (2024.7.4)\n",
      "Requirement already satisfied: charset-normalizer<4,>=2 in /opt/conda/lib/python3.10/site-packages (from requests<3.0.0,>=2.4.0->opensearch-py==2.3.1) (3.3.2)\n",
      "Requirement already satisfied: idna<4,>=2.5 in /opt/conda/lib/python3.10/site-packages (from requests<3.0.0,>=2.4.0->opensearch-py==2.3.1) (3.7)\n",
      "Downloading opensearch_py-2.3.1-py2.py3-none-any.whl (327 kB)\n",
      "\u001b[2K   \u001b[90m━━━━━━━━━━━━━━━━━━━━━━━━━━━━━━━━━━━━━━━━\u001b[0m \u001b[32m327.3/327.3 kB\u001b[0m \u001b[31m32.6 MB/s\u001b[0m eta \u001b[36m0:00:00\u001b[0m\n",
      "\u001b[?25hDownloading urllib3-1.26.19-py2.py3-none-any.whl (143 kB)\n",
      "\u001b[2K   \u001b[90m━━━━━━━━━━━━━━━━━━━━━━━━━━━━━━━━━━━━━━━━\u001b[0m \u001b[32m143.9/143.9 kB\u001b[0m \u001b[31m23.3 MB/s\u001b[0m eta \u001b[36m0:00:00\u001b[0m\n",
      "\u001b[?25hInstalling collected packages: urllib3, opensearch-py\n",
      "  Attempting uninstall: urllib3\n",
      "    Found existing installation: urllib3 2.2.2\n",
      "    Uninstalling urllib3-2.2.2:\n",
      "      Successfully uninstalled urllib3-2.2.2\n",
      "\u001b[31mERROR: pip's dependency resolver does not currently take into account all the packages that are installed. This behaviour is the source of the following dependency conflicts.\n",
      "sparkmagic 0.21.0 requires pandas<2.0.0,>=0.17.1, but you have pandas 2.1.4 which is incompatible.\u001b[0m\u001b[31m\n",
      "\u001b[0mSuccessfully installed opensearch-py-2.3.1 urllib3-1.26.19\n",
      "Note: you may need to restart the kernel to use updated packages.\n",
      "Collecting boto3==1.33.3\n",
      "  Downloading boto3-1.33.3-py3-none-any.whl.metadata (6.7 kB)\n",
      "Collecting botocore<1.34.0,>=1.33.3 (from boto3==1.33.3)\n",
      "  Downloading botocore-1.33.13-py3-none-any.whl.metadata (6.1 kB)\n",
      "Requirement already satisfied: jmespath<2.0.0,>=0.7.1 in /opt/conda/lib/python3.10/site-packages (from boto3==1.33.3) (1.0.1)\n",
      "Collecting s3transfer<0.9.0,>=0.8.0 (from boto3==1.33.3)\n",
      "  Downloading s3transfer-0.8.2-py3-none-any.whl.metadata (1.8 kB)\n",
      "Requirement already satisfied: python-dateutil<3.0.0,>=2.1 in /opt/conda/lib/python3.10/site-packages (from botocore<1.34.0,>=1.33.3->boto3==1.33.3) (2.9.0.post0)\n",
      "Requirement already satisfied: urllib3<2.1,>=1.25.4 in /opt/conda/lib/python3.10/site-packages (from botocore<1.34.0,>=1.33.3->boto3==1.33.3) (1.26.19)\n",
      "Requirement already satisfied: six>=1.5 in /opt/conda/lib/python3.10/site-packages (from python-dateutil<3.0.0,>=2.1->botocore<1.34.0,>=1.33.3->boto3==1.33.3) (1.16.0)\n",
      "Downloading boto3-1.33.3-py3-none-any.whl (139 kB)\n",
      "\u001b[2K   \u001b[90m━━━━━━━━━━━━━━━━━━━━━━━━━━━━━━━━━━━━━━━━\u001b[0m \u001b[32m139.3/139.3 kB\u001b[0m \u001b[31m11.3 MB/s\u001b[0m eta \u001b[36m0:00:00\u001b[0m\n",
      "\u001b[?25hDownloading botocore-1.33.13-py3-none-any.whl (11.8 MB)\n",
      "\u001b[2K   \u001b[90m━━━━━━━━━━━━━━━━━━━━━━━━━━━━━━━━━━━━━━━━\u001b[0m \u001b[32m11.8/11.8 MB\u001b[0m \u001b[31m77.5 MB/s\u001b[0m eta \u001b[36m0:00:00\u001b[0m:00:01\u001b[0m0:01\u001b[0m\n",
      "\u001b[?25hDownloading s3transfer-0.8.2-py3-none-any.whl (82 kB)\n",
      "\u001b[2K   \u001b[90m━━━━━━━━━━━━━━━━━━━━━━━━━━━━━━━━━━━━━━━━\u001b[0m \u001b[32m82.0/82.0 kB\u001b[0m \u001b[31m12.7 MB/s\u001b[0m eta \u001b[36m0:00:00\u001b[0m\n",
      "\u001b[?25hInstalling collected packages: botocore, s3transfer, boto3\n",
      "  Attempting uninstall: botocore\n",
      "    Found existing installation: botocore 1.35.7\n",
      "    Uninstalling botocore-1.35.7:\n",
      "      Successfully uninstalled botocore-1.35.7\n",
      "  Attempting uninstall: s3transfer\n",
      "    Found existing installation: s3transfer 0.10.2\n",
      "    Uninstalling s3transfer-0.10.2:\n",
      "      Successfully uninstalled s3transfer-0.10.2\n",
      "  Attempting uninstall: boto3\n",
      "    Found existing installation: boto3 1.35.7\n",
      "    Uninstalling boto3-1.35.7:\n",
      "      Successfully uninstalled boto3-1.35.7\n",
      "\u001b[31mERROR: pip's dependency resolver does not currently take into account all the packages that are installed. This behaviour is the source of the following dependency conflicts.\n",
      "aiobotocore 2.13.1 requires botocore<1.34.132,>=1.34.70, but you have botocore 1.33.13 which is incompatible.\n",
      "amazon-sagemaker-sql-magic 0.1.3 requires sqlparse==0.5.0, but you have sqlparse 0.5.1 which is incompatible.\n",
      "autogluon-common 0.8.3 requires pandas<1.6,>=1.4.1, but you have pandas 2.1.4 which is incompatible.\n",
      "autogluon-core 0.8.3 requires pandas<1.6,>=1.4.1, but you have pandas 2.1.4 which is incompatible.\n",
      "autogluon-core 0.8.3 requires scikit-learn<1.4.1,>=1.1, but you have scikit-learn 1.4.2 which is incompatible.\n",
      "autogluon-features 0.8.3 requires pandas<1.6,>=1.4.1, but you have pandas 2.1.4 which is incompatible.\n",
      "autogluon-features 0.8.3 requires scikit-learn<1.4.1,>=1.1, but you have scikit-learn 1.4.2 which is incompatible.\n",
      "autogluon-multimodal 0.8.3 requires pandas<1.6,>=1.4.1, but you have pandas 2.1.4 which is incompatible.\n",
      "autogluon-multimodal 0.8.3 requires pytorch-lightning<1.10.0,>=1.9.0, but you have pytorch-lightning 2.0.9 which is incompatible.\n",
      "autogluon-multimodal 0.8.3 requires scikit-learn<1.4.1,>=1.1, but you have scikit-learn 1.4.2 which is incompatible.\n",
      "autogluon-multimodal 0.8.3 requires torch<1.14,>=1.9, but you have torch 2.0.0.post104 which is incompatible.\n",
      "autogluon-multimodal 0.8.3 requires torchmetrics<0.12.0,>=0.11.0, but you have torchmetrics 1.0.3 which is incompatible.\n",
      "autogluon-multimodal 0.8.3 requires torchvision<0.15.0, but you have torchvision 0.15.2a0+ab7b3e6 which is incompatible.\n",
      "autogluon-tabular 0.8.3 requires pandas<1.6,>=1.4.1, but you have pandas 2.1.4 which is incompatible.\n",
      "autogluon-tabular 0.8.3 requires scikit-learn<1.4.1,>=1.1, but you have scikit-learn 1.4.2 which is incompatible.\n",
      "autogluon-timeseries 0.8.3 requires pandas<1.6,>=1.4.1, but you have pandas 2.1.4 which is incompatible.\n",
      "autogluon-timeseries 0.8.3 requires pytorch-lightning<1.10.0,>=1.7.4, but you have pytorch-lightning 2.0.9 which is incompatible.\n",
      "autogluon-timeseries 0.8.3 requires torch<1.14,>=1.9, but you have torch 2.0.0.post104 which is incompatible.\n",
      "awscli 1.34.7 requires botocore==1.35.7, but you have botocore 1.33.13 which is incompatible.\n",
      "awscli 1.34.7 requires s3transfer<0.11.0,>=0.10.0, but you have s3transfer 0.8.2 which is incompatible.\n",
      "langchain-aws 0.1.6 requires boto3<1.35.0,>=1.34.51, but you have boto3 1.33.3 which is incompatible.\u001b[0m\u001b[31m\n",
      "\u001b[0mSuccessfully installed boto3-1.33.3 botocore-1.33.13 s3transfer-0.8.2\n",
      "Note: you may need to restart the kernel to use updated packages.\n",
      "Collecting retrying==1.3.4\n",
      "  Downloading retrying-1.3.4-py3-none-any.whl.metadata (6.9 kB)\n",
      "Requirement already satisfied: six>=1.7.0 in /opt/conda/lib/python3.10/site-packages (from retrying==1.3.4) (1.16.0)\n",
      "Downloading retrying-1.3.4-py3-none-any.whl (11 kB)\n",
      "Installing collected packages: retrying\n",
      "  Attempting uninstall: retrying\n",
      "    Found existing installation: retrying 1.3.3\n",
      "    Uninstalling retrying-1.3.3:\n",
      "      Successfully uninstalled retrying-1.3.3\n",
      "\u001b[31mERROR: pip's dependency resolver does not currently take into account all the packages that are installed. This behaviour is the source of the following dependency conflicts.\n",
      "dash 2.17.1 requires dash-core-components==2.0.0, which is not installed.\n",
      "dash 2.17.1 requires dash-html-components==2.0.0, which is not installed.\n",
      "dash 2.17.1 requires dash-table==5.0.0, which is not installed.\u001b[0m\u001b[31m\n",
      "\u001b[0mSuccessfully installed retrying-1.3.4\n",
      "Note: you may need to restart the kernel to use updated packages.\n"
     ]
    }
   ],
   "source": [
    "%pip install -U opensearch-py==2.3.1\n",
    "%pip install -U boto3==1.33.3\n",
    "%pip install -U retrying==1.3.4"
   ]
  },
  {
   "cell_type": "code",
   "execution_count": 106,
   "id": "6055d692-3eb7-419c-9605-fbf1a4c2fcec",
   "metadata": {},
   "outputs": [
    {
     "data": {
      "text/html": [
       "<script>Jupyter.notebook.kernel.restart()</script>"
      ],
      "text/plain": [
       "<IPython.core.display.HTML object>"
      ]
     },
     "execution_count": 106,
     "metadata": {},
     "output_type": "execute_result"
    }
   ],
   "source": [
    "from IPython.core.display import HTML\n",
    "HTML(\"<script>Jupyter.notebook.kernel.restart()</script>\")"
   ]
  },
  {
   "cell_type": "code",
   "execution_count": 107,
   "id": "e5bf9ea1-91f8-4466-9a7e-1766d6c2f8bc",
   "metadata": {},
   "outputs": [],
   "source": [
    "import warnings\n",
    "warnings.filterwarnings('ignore')"
   ]
  },
  {
   "cell_type": "markdown",
   "id": "c4836468-45c0-47a1-9cc6-cbf3d6c66819",
   "metadata": {},
   "source": [
    "check bucket"
   ]
  },
  {
   "cell_type": "code",
   "execution_count": 109,
   "id": "5db3ad09-f14f-46d6-8443-bbfc04a01a70",
   "metadata": {},
   "outputs": [],
   "source": [
    "import json\n",
    "import os\n",
    "import boto3\n",
    "from botocore.exceptions import ClientError\n",
    "import pprint\n",
    "from utility import create_bedrock_execution_role, create_oss_policy_attach_bedrock_execution_role, create_policies_in_oss, interactive_sleep\n",
    "import random\n",
    "from retrying import retry\n",
    "suffix = random.randrange(200, 900)\n",
    "\n",
    "sts_client = boto3.client('sts')\n",
    "boto3_session = boto3.session.Session()\n",
    "region_name = boto3_session.region_name\n",
    "bedrock_agent_client = boto3_session.client('bedrock-agent', region_name=region_name)\n",
    "service = 'aoss'\n",
    "s3_client = boto3.client('s3')\n",
    "account_id = sts_client.get_caller_identity()[\"Account\"]\n",
    "s3_suffix = f\"{region_name}-{account_id}\"\n",
    "bucket_name = f'edify-apjc'\n",
    "pp = pprint.PrettyPrinter(indent=2)"
   ]
  },
  {
   "cell_type": "code",
   "execution_count": 110,
   "id": "8117140a-9e8d-4473-8a94-bd9b8636c6c2",
   "metadata": {},
   "outputs": [
    {
     "name": "stdout",
     "output_type": "stream",
     "text": [
      "Bucket edify-apjc Exists\n"
     ]
    }
   ],
   "source": [
    "try:\n",
    "    s3_client.head_bucket(Bucket=bucket_name)\n",
    "    print(f'Bucket {bucket_name} Exists')\n",
    "except ClientError as e:\n",
    "    print(f'Creating bucket {bucket_name}')"
   ]
  },
  {
   "cell_type": "code",
   "execution_count": 111,
   "id": "5ff1cf6f-c0cb-401e-892b-3442d8513c2c",
   "metadata": {},
   "outputs": [],
   "source": [
    "import boto3\n",
    "import time\n",
    "vector_store_name = f'bedrock-edify-rag-{suffix}'\n",
    "index_name = f\"bedrock-edify-rag-index-{suffix}\"\n",
    "aoss_client = boto3_session.client('opensearchserverless')\n",
    "bedrock_kb_execution_role = create_bedrock_execution_role(bucket_name=bucket_name)\n",
    "bedrock_kb_execution_role_arn = bedrock_kb_execution_role['Role']['Arn']"
   ]
  },
  {
   "cell_type": "code",
   "execution_count": 112,
   "id": "1c88b8e7-074c-4310-8216-d1da59860888",
   "metadata": {},
   "outputs": [],
   "source": [
    "encryption_policy, network_policy, access_policy = create_policies_in_oss(vector_store_name=vector_store_name,\n",
    "                       aoss_client=aoss_client,\n",
    "                       bedrock_kb_execution_role_arn=bedrock_kb_execution_role_arn)\n",
    "collection = aoss_client.create_collection(name=vector_store_name,type='VECTORSEARCH')"
   ]
  },
  {
   "cell_type": "code",
   "execution_count": 113,
   "id": "4d62ae2b-0496-470e-bab3-8bb19fc46784",
   "metadata": {},
   "outputs": [
    {
     "name": "stdout",
     "output_type": "stream",
     "text": [
      "{ 'ResponseMetadata': { 'HTTPHeaders': { 'connection': 'keep-alive',\n",
      "                                         'content-length': '313',\n",
      "                                         'content-type': 'application/x-amz-json-1.0',\n",
      "                                         'date': 'Thu, 29 Aug 2024 07:12:03 '\n",
      "                                                 'GMT',\n",
      "                                         'x-amzn-requestid': 'c3901f6c-ac9e-4fbd-aee2-fc00c39a9833'},\n",
      "                        'HTTPStatusCode': 200,\n",
      "                        'RequestId': 'c3901f6c-ac9e-4fbd-aee2-fc00c39a9833',\n",
      "                        'RetryAttempts': 0},\n",
      "  'createCollectionDetail': { 'arn': 'arn:aws:aoss:us-east-1:533267439967:collection/hyurqnu1q1dut2msng40',\n",
      "                              'createdDate': 1724915523156,\n",
      "                              'id': 'hyurqnu1q1dut2msng40',\n",
      "                              'kmsKeyArn': 'auto',\n",
      "                              'lastModifiedDate': 1724915523156,\n",
      "                              'name': 'bedrock-edify-rag-357',\n",
      "                              'standbyReplicas': 'ENABLED',\n",
      "                              'status': 'CREATING',\n",
      "                              'type': 'VECTORSEARCH'}}\n"
     ]
    }
   ],
   "source": [
    "pp.pprint(collection)"
   ]
  },
  {
   "cell_type": "code",
   "execution_count": 114,
   "id": "0786d437-08f0-461c-a7bc-5f8ae1b4886f",
   "metadata": {},
   "outputs": [
    {
     "name": "stdout",
     "output_type": "stream",
     "text": [
      "hyurqnu1q1dut2msng40.us-east-1.aoss.amazonaws.com\n"
     ]
    }
   ],
   "source": [
    "collection_id = collection['createCollectionDetail']['id']\n",
    "host = collection_id + '.' + region_name + '.aoss.amazonaws.com'\n",
    "print(host)"
   ]
  },
  {
   "cell_type": "code",
   "execution_count": 115,
   "id": "031accb1-af57-4716-ad7b-d797a7ed148d",
   "metadata": {},
   "outputs": [
    {
     "name": "stdout",
     "output_type": "stream",
     "text": [
      "\n",
      "Collection successfully created:\n",
      "[ { 'arn': 'arn:aws:aoss:us-east-1:533267439967:collection/hyurqnu1q1dut2msng40',\n",
      "    'collectionEndpoint': 'https://hyurqnu1q1dut2msng40.us-east-1.aoss.amazonaws.com',\n",
      "    'createdDate': 1724915523156,\n",
      "    'dashboardEndpoint': 'https://hyurqnu1q1dut2msng40.us-east-1.aoss.amazonaws.com/_dashboards',\n",
      "    'id': 'hyurqnu1q1dut2msng40',\n",
      "    'kmsKeyArn': 'auto',\n",
      "    'lastModifiedDate': 1724915547601,\n",
      "    'name': 'bedrock-edify-rag-357',\n",
      "    'standbyReplicas': 'ENABLED',\n",
      "    'status': 'ACTIVE',\n",
      "    'type': 'VECTORSEARCH'}]\n"
     ]
    }
   ],
   "source": [
    "response = aoss_client.batch_get_collection(names=[vector_store_name])\n",
    "# Periodically check collection status\n",
    "while (response['collectionDetails'][0]['status']) == 'CREATING':\n",
    "    print('Creating collection...')\n",
    "    interactive_sleep(30)\n",
    "    response = aoss_client.batch_get_collection(names=[vector_store_name])\n",
    "print('\\nCollection successfully created:')\n",
    "pp.pprint(response[\"collectionDetails\"])"
   ]
  },
  {
   "cell_type": "code",
   "execution_count": 117,
   "id": "44d8c111-032e-4d57-bdd8-5d63f43660dd",
   "metadata": {},
   "outputs": [
    {
     "name": "stdout",
     "output_type": "stream",
     "text": [
      "Opensearch serverless arn:  arn:aws:iam::533267439967:policy/AmazonBedrockOSSPolicyForKnowledgeBase_564\n",
      "Done!.......................................................\n"
     ]
    }
   ],
   "source": [
    "try:\n",
    "    create_oss_policy_attach_bedrock_execution_role(collection_id=collection_id,\n",
    "                                                    bedrock_kb_execution_role=bedrock_kb_execution_role)\n",
    "    # It can take up to a minute for data access rules to be enforced\n",
    "    interactive_sleep(60)\n",
    "except Exception as e:\n",
    "    print(\"Policy already exists\")\n",
    "    pp.pprint(e)"
   ]
  },
  {
   "cell_type": "markdown",
   "id": "08278efa-23c8-43ac-baf7-9eea14519488",
   "metadata": {},
   "source": [
    "### Step 10 : creating vector index"
   ]
  },
  {
   "cell_type": "code",
   "execution_count": 118,
   "id": "5cd24d24-20e3-4acb-b18b-1d6b6264d48b",
   "metadata": {},
   "outputs": [],
   "source": [
    "from opensearchpy import OpenSearch, RequestsHttpConnection, AWSV4SignerAuth, RequestError\n",
    "credentials = boto3.Session().get_credentials()\n",
    "awsauth = auth = AWSV4SignerAuth(credentials, region_name, service)\n",
    "\n",
    "index_name = f\"bedrock-edify-index-{suffix}\"\n",
    "body_json = {\n",
    "   \"settings\": {\n",
    "      \"index.knn\": \"true\",\n",
    "       \"number_of_shards\": 1,\n",
    "       \"knn.algo_param.ef_search\": 512,\n",
    "       \"number_of_replicas\": 0,\n",
    "   },\n",
    "   \"mappings\": {\n",
    "      \"properties\": {\n",
    "         \"vector\": {\n",
    "            \"type\": \"knn_vector\",\n",
    "            \"dimension\": 1536,\n",
    "             \"method\": {\n",
    "                 \"name\": \"hnsw\",\n",
    "                 \"engine\": \"faiss\",\n",
    "                 \"space_type\": \"l2\"\n",
    "             },\n",
    "         },\n",
    "         \"text\": {\n",
    "            \"type\": \"text\"\n",
    "         },\n",
    "         \"text-metadata\": {\n",
    "            \"type\": \"text\"         }\n",
    "      }\n",
    "   }\n",
    "}\n",
    "\n",
    "oss_client = OpenSearch(\n",
    "    hosts=[{'host': host, 'port': 443}],\n",
    "    http_auth=awsauth,\n",
    "    use_ssl=True,\n",
    "    verify_certs=True,\n",
    "    connection_class=RequestsHttpConnection,\n",
    "    timeout=300\n",
    ")"
   ]
  },
  {
   "cell_type": "code",
   "execution_count": 119,
   "id": "ebf6087a-af3b-4d46-b248-c73654b11a97",
   "metadata": {},
   "outputs": [
    {
     "name": "stdout",
     "output_type": "stream",
     "text": [
      "\n",
      "Creating index:\n",
      "{ 'acknowledged': True,\n",
      "  'index': 'bedrock-edify-index-357',\n",
      "  'shards_acknowledged': True}\n",
      "Done!.......................................................\n"
     ]
    }
   ],
   "source": [
    "try:\n",
    "    response = oss_client.indices.create(index=index_name, body=json.dumps(body_json))\n",
    "    print('\\nCreating index:')\n",
    "    pp.pprint(response)\n",
    "\n",
    "    # index creation can take up to a minute\n",
    "    interactive_sleep(60)\n",
    "except RequestError as e:\n",
    "    # you can delete the index if its already exists\n",
    "    # oss_client.indices.delete(index=index_name)\n",
    "    print(f'Error while trying to create the index, with error {e.error}\\nyou may unmark the delete above to delete, and recreate the index')"
   ]
  },
  {
   "cell_type": "code",
   "execution_count": 120,
   "id": "ac120456-cc38-4f84-a3fd-73c2b69b167e",
   "metadata": {},
   "outputs": [],
   "source": [
    "opensearchServerlessConfiguration = {\n",
    "            \"collectionArn\": collection[\"createCollectionDetail\"]['arn'],\n",
    "            \"vectorIndexName\": index_name,\n",
    "            \"fieldMapping\": {\n",
    "                \"vectorField\": \"vector\",\n",
    "                \"textField\": \"text\",\n",
    "                \"metadataField\": \"text-metadata\"\n",
    "            }\n",
    "        }\n",
    "\n",
    "# Ingest strategy - How to ingest data from the data source\n",
    "chunkingStrategyConfiguration = {\n",
    "    \"chunkingStrategy\": \"FIXED_SIZE\",\n",
    "    \"fixedSizeChunkingConfiguration\": {\n",
    "        \"maxTokens\": 512,\n",
    "        \"overlapPercentage\": 20\n",
    "    }\n",
    "}\n",
    "\n",
    "# The data source to ingest documents from, into the OpenSearch serverless knowledge base index\n",
    "s3Configuration = {\n",
    "    \"bucketArn\": f\"arn:aws:s3:::{bucket_name}\",\n",
    "    # \"inclusionPrefixes\":[\"*.*\"] # you can use this if you want to create a KB using data within s3 prefixes.\n",
    "}\n",
    "\n",
    "# The embedding model used by Bedrock to embed ingested documents, and realtime prompts\n",
    "embeddingModelArn = f\"arn:aws:bedrock:{region_name}::foundation-model/amazon.titan-embed-text-v1\"\n",
    "\n",
    "name = f\"bedrock-edify-knowledge-base-{suffix}\"\n",
    "description = \"edify knowledge base\"\n",
    "roleArn = bedrock_kb_execution_role_arn"
   ]
  },
  {
   "cell_type": "code",
   "execution_count": 121,
   "id": "086381db-a7ad-4aed-9ee3-9a65b4ef497f",
   "metadata": {},
   "outputs": [],
   "source": [
    "from retrying import retry\n",
    "\n",
    "@retry(wait_random_min=1000, wait_random_max=2000,stop_max_attempt_number=7)\n",
    "def create_knowledge_base_func():\n",
    "    create_kb_response = bedrock_agent_client.create_knowledge_base(\n",
    "        name = name,\n",
    "        description = description,\n",
    "        roleArn = roleArn,\n",
    "        knowledgeBaseConfiguration = {\n",
    "            \"type\": \"VECTOR\",\n",
    "            \"vectorKnowledgeBaseConfiguration\": {\n",
    "                \"embeddingModelArn\": embeddingModelArn\n",
    "            }\n",
    "        },\n",
    "        storageConfiguration = {\n",
    "            \"type\": \"OPENSEARCH_SERVERLESS\",\n",
    "            \"opensearchServerlessConfiguration\":opensearchServerlessConfiguration\n",
    "        }\n",
    "    )\n",
    "    return create_kb_response[\"knowledgeBase\"]"
   ]
  },
  {
   "cell_type": "code",
   "execution_count": 122,
   "id": "9986719e-bfc8-4a7d-8a56-67e002b11f01",
   "metadata": {},
   "outputs": [],
   "source": [
    "try:\n",
    "    kb = create_knowledge_base_func()\n",
    "except Exception as err:\n",
    "    print(f\"{err=}, {type(err)=}\")"
   ]
  },
  {
   "cell_type": "code",
   "execution_count": 123,
   "id": "6bc9fb41-4b3c-479b-87e3-2c967915c41d",
   "metadata": {},
   "outputs": [
    {
     "name": "stdout",
     "output_type": "stream",
     "text": [
      "{ 'createdAt': datetime.datetime(2024, 8, 29, 7, 18, 30, 639648, tzinfo=tzlocal()),\n",
      "  'description': 'edify knowledge base',\n",
      "  'knowledgeBaseArn': 'arn:aws:bedrock:us-east-1:533267439967:knowledge-base/5SSLBN29TM',\n",
      "  'knowledgeBaseConfiguration': { 'type': 'VECTOR',\n",
      "                                  'vectorKnowledgeBaseConfiguration': { 'embeddingModelArn': 'arn:aws:bedrock:us-east-1::foundation-model/amazon.titan-embed-text-v1'}},\n",
      "  'knowledgeBaseId': '5SSLBN29TM',\n",
      "  'name': 'bedrock-edify-knowledge-base-357',\n",
      "  'roleArn': 'arn:aws:iam::533267439967:role/AmazonBedrockExecutionRoleForKnowledgeBase_564',\n",
      "  'status': 'CREATING',\n",
      "  'storageConfiguration': { 'opensearchServerlessConfiguration': { 'collectionArn': 'arn:aws:aoss:us-east-1:533267439967:collection/hyurqnu1q1dut2msng40',\n",
      "                                                                   'fieldMapping': { 'metadataField': 'text-metadata',\n",
      "                                                                                     'textField': 'text',\n",
      "                                                                                     'vectorField': 'vector'},\n",
      "                                                                   'vectorIndexName': 'bedrock-edify-index-357'},\n",
      "                            'type': 'OPENSEARCH_SERVERLESS'},\n",
      "  'updatedAt': datetime.datetime(2024, 8, 29, 7, 18, 30, 639648, tzinfo=tzlocal())}\n"
     ]
    }
   ],
   "source": [
    "pp.pprint(kb)"
   ]
  },
  {
   "cell_type": "code",
   "execution_count": 124,
   "id": "00b2cc32-0096-433c-a2f4-a7cffe24157b",
   "metadata": {},
   "outputs": [],
   "source": [
    "get_kb_response = bedrock_agent_client.get_knowledge_base(knowledgeBaseId = kb['knowledgeBaseId'])\n"
   ]
  },
  {
   "cell_type": "code",
   "execution_count": 125,
   "id": "23b60212-e2a5-429f-91ec-2bc1a4b6f6fb",
   "metadata": {},
   "outputs": [
    {
     "name": "stdout",
     "output_type": "stream",
     "text": [
      "{ 'createdAt': datetime.datetime(2024, 8, 29, 7, 19, 18, 890100, tzinfo=tzlocal()),\n",
      "  'dataSourceConfiguration': { 's3Configuration': { 'bucketArn': 'arn:aws:s3:::edify-apjc'},\n",
      "                               'type': 'S3'},\n",
      "  'dataSourceId': 'IC4L6ZCSYY',\n",
      "  'description': 'edify knowledge base',\n",
      "  'knowledgeBaseId': '5SSLBN29TM',\n",
      "  'name': 'bedrock-edify-knowledge-base-357',\n",
      "  'status': 'AVAILABLE',\n",
      "  'updatedAt': datetime.datetime(2024, 8, 29, 7, 19, 18, 890100, tzinfo=tzlocal()),\n",
      "  'vectorIngestionConfiguration': { 'chunkingConfiguration': { 'chunkingStrategy': 'FIXED_SIZE',\n",
      "                                                               'fixedSizeChunkingConfiguration': { 'maxTokens': 512,\n",
      "                                                                                                   'overlapPercentage': 20}}}}\n"
     ]
    }
   ],
   "source": [
    "create_ds_response = bedrock_agent_client.create_data_source(\n",
    "    name = name,\n",
    "    description = description,\n",
    "    knowledgeBaseId = kb['knowledgeBaseId'],\n",
    "    dataSourceConfiguration = {\n",
    "        \"type\": \"S3\",\n",
    "        \"s3Configuration\":s3Configuration\n",
    "    },\n",
    "    vectorIngestionConfiguration = {\n",
    "        \"chunkingConfiguration\": chunkingStrategyConfiguration\n",
    "    }\n",
    ")\n",
    "ds = create_ds_response[\"dataSource\"]\n",
    "pp.pprint(ds)"
   ]
  },
  {
   "cell_type": "code",
   "execution_count": 126,
   "id": "95135fad-76a1-4a77-ad76-c1f6df327b67",
   "metadata": {},
   "outputs": [
    {
     "data": {
      "text/plain": [
       "{'ResponseMetadata': {'RequestId': 'ab586efd-a0f0-4806-9560-cf7b2e63414d',\n",
       "  'HTTPStatusCode': 200,\n",
       "  'HTTPHeaders': {'date': 'Thu, 29 Aug 2024 07:19:29 GMT',\n",
       "   'content-type': 'application/json',\n",
       "   'content-length': '558',\n",
       "   'connection': 'keep-alive',\n",
       "   'x-amzn-requestid': 'ab586efd-a0f0-4806-9560-cf7b2e63414d',\n",
       "   'x-amz-apigw-id': 'dQoYVFv2IAMERfA=',\n",
       "   'x-amzn-trace-id': 'Root=1-66d02101-6cf075fa382e7a8b2696e759'},\n",
       "  'RetryAttempts': 0},\n",
       " 'dataSource': {'knowledgeBaseId': '5SSLBN29TM',\n",
       "  'dataSourceId': 'IC4L6ZCSYY',\n",
       "  'name': 'bedrock-edify-knowledge-base-357',\n",
       "  'status': 'AVAILABLE',\n",
       "  'description': 'edify knowledge base',\n",
       "  'dataSourceConfiguration': {'type': 'S3',\n",
       "   's3Configuration': {'bucketArn': 'arn:aws:s3:::edify-apjc'}},\n",
       "  'vectorIngestionConfiguration': {'chunkingConfiguration': {'chunkingStrategy': 'FIXED_SIZE',\n",
       "    'fixedSizeChunkingConfiguration': {'maxTokens': 512,\n",
       "     'overlapPercentage': 20}}},\n",
       "  'createdAt': datetime.datetime(2024, 8, 29, 7, 19, 18, 890100, tzinfo=tzlocal()),\n",
       "  'updatedAt': datetime.datetime(2024, 8, 29, 7, 19, 18, 890100, tzinfo=tzlocal())}}"
      ]
     },
     "execution_count": 126,
     "metadata": {},
     "output_type": "execute_result"
    }
   ],
   "source": [
    "bedrock_agent_client.get_data_source(knowledgeBaseId = kb['knowledgeBaseId'], dataSourceId = ds[\"dataSourceId\"])\n"
   ]
  },
  {
   "cell_type": "markdown",
   "id": "e4763876-6877-4b5e-9797-126ae21a7afe",
   "metadata": {},
   "source": [
    "### Step 11 : Ingesting the data in S3 bucket to vector DB"
   ]
  },
  {
   "cell_type": "code",
   "execution_count": 127,
   "id": "57f0908f-2d0f-496c-a0fc-3a779bbeb9c0",
   "metadata": {},
   "outputs": [],
   "source": [
    "start_job_response = bedrock_agent_client.start_ingestion_job(knowledgeBaseId = kb['knowledgeBaseId'], dataSourceId = ds[\"dataSourceId\"])\n"
   ]
  },
  {
   "cell_type": "code",
   "execution_count": 128,
   "id": "55e34ee6-071c-462c-a326-ba81024874fe",
   "metadata": {},
   "outputs": [
    {
     "name": "stdout",
     "output_type": "stream",
     "text": [
      "{ 'dataSourceId': 'IC4L6ZCSYY',\n",
      "  'ingestionJobId': 'QXYX750ICY',\n",
      "  'knowledgeBaseId': '5SSLBN29TM',\n",
      "  'startedAt': datetime.datetime(2024, 8, 29, 7, 19, 56, 98919, tzinfo=tzlocal()),\n",
      "  'statistics': { 'numberOfDocumentsDeleted': 0,\n",
      "                  'numberOfDocumentsFailed': 0,\n",
      "                  'numberOfDocumentsScanned': 0,\n",
      "                  'numberOfModifiedDocumentsIndexed': 0,\n",
      "                  'numberOfNewDocumentsIndexed': 0},\n",
      "  'status': 'STARTING',\n",
      "  'updatedAt': datetime.datetime(2024, 8, 29, 7, 19, 56, 98919, tzinfo=tzlocal())}\n"
     ]
    }
   ],
   "source": [
    "job = start_job_response[\"ingestionJob\"]\n",
    "pp.pprint(job)"
   ]
  },
  {
   "cell_type": "code",
   "execution_count": 129,
   "id": "61663826-c9f7-4355-a58b-0d470331cb57",
   "metadata": {},
   "outputs": [
    {
     "name": "stdout",
     "output_type": "stream",
     "text": [
      "{ 'dataSourceId': 'IC4L6ZCSYY',\n",
      "  'failureReasons': [ '[\"Ignored 7 files as they were larger than service '\n",
      "                      'limit of MaximumFileSizeSupported: 52428800 '\n",
      "                      'bytes\",\"Encountered error: Ignored 3 files as their '\n",
      "                      'file format was not supported. [Files: '\n",
      "                      's3://edify-apjc/transcribe-input/botany/Introduction to '\n",
      "                      'Botany.mp4, '\n",
      "                      's3://edify-apjc/transcribe-input/botany/Plant Anatomy '\n",
      "                      'and Structure.mp4, '\n",
      "                      's3://edify-apjc/transcribe-input/botany/Mechanisms of '\n",
      "                      'Plant Growth.mp4]. Call to Customer Source did not '\n",
      "                      'succeed.\",\"Encountered error: Ignored 2 files as their '\n",
      "                      'file format was not supported. [Files: '\n",
      "                      's3://edify-apjc/transcribe-input/botany/Types of Plant '\n",
      "                      'Tissues.mp4, s3://edify-apjc/sample/podcast.mp3]. Call '\n",
      "                      'to Customer Source did not succeed.\",\"Encountered '\n",
      "                      'error: Ignored 3 files as their file format was not '\n",
      "                      'supported. [Files: '\n",
      "                      's3://edify-apjc/transcribe-input/botany/Introduction to '\n",
      "                      'Botany.mp4, '\n",
      "                      's3://edify-apjc/transcribe-input/botany/Plant Anatomy '\n",
      "                      'and Structure.mp4, '\n",
      "                      's3://edify-apjc/transcribe-input/botany/Mechanisms of '\n",
      "                      'Plant Growth.mp4]. Call to Customer Source did not '\n",
      "                      'succeed.\",\"Encountered error: Ignored 2 files as their '\n",
      "                      'file format was not supported. [Files: '\n",
      "                      's3://edify-apjc/transcribe-input/botany/Types of Plant '\n",
      "                      'Tissues.mp4, s3://edify-apjc/sample/podcast.mp3]. Call '\n",
      "                      'to Customer Source did not succeed.\",\"Encountered '\n",
      "                      'error: Ignored 3 files as their file format was not '\n",
      "                      'supported. [Files: '\n",
      "                      's3://edify-apjc/transcribe-input/botany/Introduction to '\n",
      "                      'Botany.mp4, '\n",
      "                      's3://edify-apjc/transcribe-input/botany/Plant Anatomy '\n",
      "                      'and Structure.mp4, '\n",
      "                      's3://edify-apjc/transcribe-input/botany/Mechanisms of '\n",
      "                      'Plant Growth.mp4]. Call to Customer Source did not '\n",
      "                      'succeed.\",\"Encountered error: Ignored 2 files as their '\n",
      "                      'file format was not supported. [Files: '\n",
      "                      's3://edify-apjc/transcribe-input/botany/Types of Plant '\n",
      "                      'Tissues.mp4, s3://edify-apjc/sample/podcast.mp3]. Call '\n",
      "                      'to Customer Source did not succeed.\",\"Encountered '\n",
      "                      'error: Ignored 3 files as their file format was not '\n",
      "                      'supported. [Files: '\n",
      "                      's3://edify-apjc/transcribe-input/botany/Introduction to '\n",
      "                      'Botany.mp4, '\n",
      "                      's3://edify-apjc/transcribe-input/botany/Plant Anatomy '\n",
      "                      'and Structure.mp4, '\n",
      "                      's3://edify-apjc/transcribe-input/botany/Mechanisms of '\n",
      "                      'Plant Growth.mp4]. Call to Customer Source did not '\n",
      "                      'succeed.\",\"Encountered error: Ignored 2 files as their '\n",
      "                      'file format was not supported. [Files: '\n",
      "                      's3://edify-apjc/transcribe-input/botany/Types of Plant '\n",
      "                      'Tissues.mp4, s3://edify-apjc/sample/podcast.mp3]. Call '\n",
      "                      'to Customer Source did not succeed.\",\"Encountered '\n",
      "                      'error: Ignored 3 files as their file format was not '\n",
      "                      'supported. [Files: '\n",
      "                      's3://edify-apjc/transcribe-input/botany/Introduction to '\n",
      "                      'Botany.mp4, '\n",
      "                      's3://edify-apjc/transcribe-input/botany/Plant Anatomy '\n",
      "                      'and Structure.mp4, '\n",
      "                      's3://edify-apjc/transcribe-input/botany/Mechanisms of '\n",
      "                      'Plant Growth.mp4]. Call to Customer Source did not '\n",
      "                      'succeed.\",\"Encountered error: Ignored 2 files as their '\n",
      "                      'file format was not supported. [Files: '\n",
      "                      's3://edify-apjc/transcribe-input/botany/Types of Plant '\n",
      "                      'Tissues.mp4, s3://edify-apjc/sample/podcast.mp3]. Call '\n",
      "                      'to Customer Source did not succeed.\",\"Encountered '\n",
      "                      'error: Ignored 3 files as their file format was not '\n",
      "                      'supported. [Files: '\n",
      "                      's3://edify-apjc/transcribe-input/botany/Introduction to '\n",
      "                      'Botany.mp4, '\n",
      "                      's3://edify-apjc/transcribe-input/botany/Plant Anatomy '\n",
      "                      'and Structure.mp4, '\n",
      "                      's3://edify-apjc/transcribe-input/botany/Mechanisms of '\n",
      "                      'Plant Growth.mp4]. Call to Customer Source did not '\n",
      "                      'succeed.\",\"Encountered error: Ignored 2 files as their '\n",
      "                      'file format was not supported. [Files: '\n",
      "                      's3://edify-apjc/transcribe-input/botany/Types of Plant '\n",
      "                      'Tissues.mp4, s3://edify-apjc/sample/podcast.mp3]. Call '\n",
      "                      'to Customer Source did not succeed.\",\"Encountered '\n",
      "                      'error: Ignored 3 files as their file format was not '\n",
      "                      'supported. [Files: '\n",
      "                      's3://edify-apjc/transcribe-input/botany/Introduction to '\n",
      "                      'Botany.mp4, '\n",
      "                      's3://edify-apjc/transcribe-input/botany/Plant Anatomy '\n",
      "                      'and Structure.mp4, '\n",
      "                      's3://edify-apjc/transcribe-input/botany/Mechanisms of '\n",
      "                      'Plant Growth.mp4]. Call to Customer Source did not '\n",
      "                      'succeed.\",\"Encountered error: Ignored 2 files as their '\n",
      "                      'file format was not supported. [Files: '\n",
      "                      's3://edify-apjc/transcribe-input/botany/Types of Plant '\n",
      "                      'Tissues.mp4, s3://edify-apjc/sample/podcast.mp3]. Call '\n",
      "                      'to Customer Source did not succeed.\",\"Encountered '\n",
      "                      'error: Ignored 3 files as their file format was not '\n",
      "                      'supported. [Files: '\n",
      "                      's3://edify-apjc/transcribe-input/botany/Introduction to '\n",
      "                      'Botany.mp4, '\n",
      "                      's3://edify-apjc/transcribe-input/botany/Plant Anatomy '\n",
      "                      'and Structure.mp4, '\n",
      "                      's3://edify-apjc/transcribe-input/botany/Mechanisms of '\n",
      "                      'Plant Growth.mp4]. Call to Customer Source did not '\n",
      "                      'succeed.\",\"Encountered error: Ignored 2 files as their '\n",
      "                      'file format was not supported. [Files: '\n",
      "                      's3://edify-apjc/transcribe-input/botany/Types of Plant '\n",
      "                      'Tissues.mp4, s3://edify-apjc/sample/podcast.mp3]. Call '\n",
      "                      'to Customer Source did not succeed.\",\"Encountered '\n",
      "                      'error: Ignored 3 files as their file format was not '\n",
      "                      'supported. [Files: '\n",
      "                      's3://edify-apjc/transcribe-input/botany/Introduction to '\n",
      "                      'Botany.mp4, '\n",
      "                      's3://edify-apjc/transcribe-input/botany/Plant Anatomy '\n",
      "                      'and Structure.mp4, '\n",
      "                      's3://edify-apjc/transcribe-input/botany/Mechanisms of '\n",
      "                      'Plant Growth.mp4]. Call to Customer Source did not '\n",
      "                      'succeed.\",\"Encountered error: Ignored 2 files as their '\n",
      "                      'file format was not supported. [Files: '\n",
      "                      's3://edify-apjc/transcribe-input/botany/Types of Plant '\n",
      "                      'Tissues.mp4, s3://edify-apjc/sample/podcast.mp3]. Call '\n",
      "                      'to Customer Source did not succeed.\",\"Encountered '\n",
      "                      'error: Ignored 3 files as their file format was not '\n",
      "                      'supported. [Files: '\n",
      "                      's3://edify-apjc/transcribe-input/botany/Introduction to '\n",
      "                      'Botany.mp4, '\n",
      "                      's3://edify-apjc/transcribe-input/botany/Plant Anatomy '\n",
      "                      'and Structure.mp4, '\n",
      "                      's3://edify-apjc/transcribe-input/botany/Mechanisms of '\n",
      "                      'Plant Growth.mp4]. Call to Customer Source did not '\n",
      "                      'succeed.\",\"Encountered error: Ignored 2 files as their '\n",
      "                      'file format was not supported. [Files: '\n",
      "                      's3://edify-apjc/transcribe-input/botany/Types of Plant '\n",
      "                      'Tissues.mp4, s3://edify-apjc/sample/podcast.mp3]. Call '\n",
      "                      'to Customer Source did not succeed.\",\"Encountered '\n",
      "                      'error: Ignored 3 files as their file format was not '\n",
      "                      'supported. [Files: '\n",
      "                      's3://edify-apjc/transcribe-input/botany/Introduction to '\n",
      "                      'Botany.mp4, '\n",
      "                      's3://edify-apjc/transcribe-input/botany/Plant Anatomy '\n",
      "                      'and Structure.mp4, '\n",
      "                      's3://edify-apjc/transcribe-input/botany/Mechanisms of '\n",
      "                      'Plant Growth.mp4]. Call to Customer Source did not '\n",
      "                      'succeed.\",\"Encountered error: Ignored 2 files as their '\n",
      "                      'file format was not supported. [Files: '\n",
      "                      's3://edify-apjc/transcribe-input/botany/Types of Plant '\n",
      "                      'Tissues.mp4, s3://edify-apjc/sample/podcast.mp3]. Call '\n",
      "                      'to Customer Source did not succeed.\",\"Encountered '\n",
      "                      'error: Ignored 3 files as their file format was not '\n",
      "                      'supported. [Files: '\n",
      "                      's3://edify-apjc/transcribe-input/botany/Introduction to '\n",
      "                      'Botany.mp4, '\n",
      "                      's3://edify-apjc/transcribe-input/botany/Plant Anatomy '\n",
      "                      'and Structure.mp4, '\n",
      "                      's3://edify-apjc/transcribe-input/botany/Mechanisms of '\n",
      "                      'Plant Growth.mp4]. Call to Customer Source did not '\n",
      "                      'succeed.\",\"Encountered error: Ignored 2 files as their '\n",
      "                      'file format was not supported. [Files: '\n",
      "                      's3://edify-apjc/transcribe-input/botany/Types of Plant '\n",
      "                      'Tissues.mp4, s3://edify-apjc/sample/podcast.mp3]. Call '\n",
      "                      'to Customer Source did not succeed.\",\"Encountered '\n",
      "                      'error: Ignored 3 files as their file format was not '\n",
      "                      'supported. [Files: '\n",
      "                      's3://edify-apjc/transcribe-input/botany/Introduction to '\n",
      "                      'Botany.mp4, '\n",
      "                      's3://edify-apjc/transcribe-input/botany/Plant Anatomy '\n",
      "                      'and Structure.mp4, '\n",
      "                      's3://edify-apjc/transcribe-input/botany/Mechanisms of '\n",
      "                      'Plant Growth.mp4]. Call to Customer Source did not '\n",
      "                      'succeed.\",\"Encountered error: Ignored 2 files as their '\n",
      "                      'file format was not supported. [Files: '\n",
      "                      's3://edify-apjc/transcribe-input/botany/Types of Plant '\n",
      "                      'Tissues.mp4, s3://edify-apjc/sample/podcast.mp3]. Call '\n",
      "                      'to Customer Source did not succeed.\",\"Encountered '\n",
      "                      'error: Ignored 3 files as their file format was not '\n",
      "                      'supported. [Files: '\n",
      "                      's3://edify-apjc/transcribe-input/botany/Introduction to '\n",
      "                      'Botany.mp4, '\n",
      "                      's3://edify-apjc/transcribe-input/botany/Plant Anatomy '\n",
      "                      'and Structure.mp4, '\n",
      "                      's3://edify-apjc/transcribe-input/botany/Mechanisms of '\n",
      "                      'Plant Growth.mp4]. Call to Customer Source did not '\n",
      "                      'succeed.\",\"Encountered error: Ignored 2 files as their '\n",
      "                      'file format was not supported. [Files: '\n",
      "                      's3://edify-apjc/transcribe-input/botany/Types of Plant '\n",
      "                      'Tissues.mp4, s3://edify-apjc/sample/podcast.mp3]. Call '\n",
      "                      'to Customer Source did not succeed.\",\"Encountered '\n",
      "                      'error: Ignored 3 files as their file format was not '\n",
      "                      'supported. [Files: '\n",
      "                      's3://edify-apjc/transcribe-input/botany/Introduction to '\n",
      "                      'Botany.mp4, '\n",
      "                      's3://edify-apjc/transcribe-input/botany/Plant Anatomy '\n",
      "                      'and Structure.mp4, '\n",
      "                      's3://edify-apjc/transcribe-input/botany/Mechanisms of '\n",
      "                      'Plant Growth.mp4]. Call to Customer Source did not '\n",
      "                      'succeed.\",\"Encountered error: Ignored 2 files as their '\n",
      "                      'file format was not supported. [Files: '\n",
      "                      's3://edify-apjc/transcribe-input/botany/Types of Plant '\n",
      "                      'Tissues.mp4, s3://edify-apjc/sample/podcast.mp3]. Call '\n",
      "                      'to Customer Source did not succeed.\",\"Encountered '\n",
      "                      'error: Ignored 3 files as their file format was not '\n",
      "                      'supported. [Files: '\n",
      "                      's3://edify-apjc/transcribe-input/botany/Introduction to '\n",
      "                      'Botany.mp4, '\n",
      "                      's3://edify-apjc/transcribe-input/botany/Plant Anatomy '\n",
      "                      'and Structure.mp4, '\n",
      "                      's3://edify-apjc/transcribe-input/botany/Mechanisms of '\n",
      "                      'Plant Growth.mp4]. Call to Customer Source did not '\n",
      "                      'succeed.\",\"Encountered error: Ignored 2 files as their '\n",
      "                      'file format was not supported. [Files: '\n",
      "                      's3://edify-apjc/transcribe-input/botany/Types of Plant '\n",
      "                      'Tissues.mp4, s3://edify-apjc/sample/podcast.mp3]. Call '\n",
      "                      'to Customer Source did not succeed.\",\"Encountered '\n",
      "                      'error: Ignored 3 files as their file format was not '\n",
      "                      'supported. [Files: '\n",
      "                      's3://edify-apjc/transcribe-input/botany/Introduction to '\n",
      "                      'Botany.mp4, '\n",
      "                      's3://edify-apjc/transcribe-input/botany/Plant Anatomy '\n",
      "                      'and Structure.mp4, '\n",
      "                      's3://edify-apjc/transcribe-input/botany/Mechanisms of '\n",
      "                      'Plant Growth.mp4]. Call to Customer Source did not '\n",
      "                      'succeed.\",\"Encountered error: Ignored 2 files as their '\n",
      "                      'file format was not supported. [Files: '\n",
      "                      's3://edify-apjc/transcribe-input/botany/Types of Plant '\n",
      "                      'Tissues.mp4, s3://edify-apjc/sample/podcast.mp3]. Call '\n",
      "                      'to Customer Source did not succeed.\",\"Encountered '\n",
      "                      'error: Ignored 3 files as their file format was not '\n",
      "                      'supported. [Files: '\n",
      "                      's3://edify-apjc/transcribe-input/botany/Introduction to '\n",
      "                      'Botany.mp4, '\n",
      "                      's3://edify-apjc/transcribe-input/botany/Plant Anatomy '\n",
      "                      'and Structure.mp4, '\n",
      "                      's3://edify-apjc/transcribe-input/botany/Mechanisms of '\n",
      "                      'Plant Growth.mp4]. Call to Customer Source did not '\n",
      "                      'succeed.\",\"Encountered error: Ignored 2 files as their '\n",
      "                      'file format was not supported. [Files: '\n",
      "                      's3://edify-apjc/transcribe-input/botany/Types of Plant '\n",
      "                      'Tissues.mp4, s3://edify-apjc/sample/podcast.mp3]. Call '\n",
      "                      'to Customer Source did not succeed.\",\"Encountered '\n",
      "                      'error: Ignored 3 files as their file format was not '\n",
      "                      'supported. [Files: '\n",
      "                      's3://edify-apjc/transcribe-input/botany/Introduction to '\n",
      "                      'Botany.mp4, '\n",
      "                      's3://edify-apjc/transcribe-input/botany/Plant Anatomy '\n",
      "                      'and Structure.mp4, '\n",
      "                      's3://edify-apjc/transcribe-input/botany/Mechanisms of '\n",
      "                      'Plant Growth.mp4]. Call to Customer Source did not '\n",
      "                      'succeed.\",\"Encountered error: Ignored 2 files as their '\n",
      "                      'file format was not supported. [Files: '\n",
      "                      's3://edify-apjc/transcribe-input/botany/Types of Plant '\n",
      "                      'Tissues.mp4, s3://edify-apjc/sample/podcast.mp3]. Call '\n",
      "                      'to Customer Source did not succeed.\",\"Encountered '\n",
      "                      'error: Ignored 3 files as their file format was not '\n",
      "                      'supported. [Files: '\n",
      "                      's3://edify-apjc/transcribe-input/botany/Introduction to '\n",
      "                      'Botany.mp4, '\n",
      "                      's3://edify-apjc/transcribe-input/botany/Plant Anatomy '\n",
      "                      'and Structure.mp4, '\n",
      "                      's3://edify-apjc/transcribe-input/botany/Mechanisms of '\n",
      "                      'Plant Growth.mp4]. Call to Customer Source did not '\n",
      "                      'succeed.\",\"Encountered error: Ignored 2 files as their '\n",
      "                      'file format was not supported. [Files: '\n",
      "                      's3://edify-apjc/transcribe-input/botany/Types of Plant '\n",
      "                      'Tissues.mp4, s3://edify-apjc/sample/podcast.mp3]. Call '\n",
      "                      'to Customer Source did not succeed.\",\"Encountered '\n",
      "                      'error: Ignored 3 files as their file format was not '\n",
      "                      'supported. [Files: '\n",
      "                      's3://edify-apjc/transcribe-input/botany/Introduction to '\n",
      "                      'Botany.mp4, '\n",
      "                      's3://edify-apjc/transcribe-input/botany/Plant Anatomy '\n",
      "                      'and Structure.mp4, '\n",
      "                      's3://edify-apjc/transcribe-input/botany/Mechanisms of '\n",
      "                      'Plant Growth.mp4]. Call to Customer Source did not '\n",
      "                      'succeed.\",\"Encountered error: Ignored 2 files as their '\n",
      "                      'file format was not supported. [Files: '\n",
      "                      's3://edify-apjc/transcribe-input/botany/Types of Plant '\n",
      "                      'Tissues.mp4, s3://edify-apjc/sample/podcast.mp3]. Call '\n",
      "                      'to Customer Source did not succeed.\",\"Encountered '\n",
      "                      'error: Ignored 3 files as their file format was not '\n",
      "                      'supported. [Files: '\n",
      "                      's3://edify-apjc/transcribe-input/botany/Introduction to '\n",
      "                      'Botany.mp4, '\n",
      "                      's3://edify-apjc/transcribe-input/botany/Plant Anatomy '\n",
      "                      'and Structure.mp4, '\n",
      "                      's3://edify-apjc/transcribe-input/botany/Mechanisms of '\n",
      "                      'Plant Growth.mp4]. Call to Customer Source did not '\n",
      "                      'succeed.\",\"Encountered error: Ignored 2 files as their '\n",
      "                      'file format was not supported. [Files: '\n",
      "                      's3://edify-apjc/transcribe-input/botany/Types of Plant '\n",
      "                      'Tissues.mp4, s3://edify-apjc/sample/podcast.mp3]. Call '\n",
      "                      'to Customer Source did not succeed.\",\"Encountered '\n",
      "                      'error: Ignored 3 files as their file format was not '\n",
      "                      'supported. [Files: '\n",
      "                      's3://edify-apjc/transcribe-input/botany/Introduction to '\n",
      "                      'Botany.mp4, '\n",
      "                      's3://edify-apjc/transcribe-input/botany/Plant Anatomy '\n",
      "                      'and Structure.mp4, '\n",
      "                      's3://edify-apjc/transcribe-input/botany/Mechanisms of '\n",
      "                      'Plant Growth.mp4]. Call to Customer Source did not '\n",
      "                      'succeed.\",\"Encountered error: Ignored 2 files as their '\n",
      "                      'file format was not supported. [Files: '\n",
      "                      's3://edify-apjc/transcribe-input/botany/Types of Plant '\n",
      "                      'Tissues.mp4, s3://edify-apjc/sample/podcast.mp3]. Call '\n",
      "                      'to Customer Source did not succeed.\",\"Encountered '\n",
      "                      'error: Ignored 3 files as their file format was not '\n",
      "                      'supported. [Files: '\n",
      "                      's3://edify-apjc/transcribe-input/botany/Introduction to '\n",
      "                      'Botany.mp4, '\n",
      "                      's3://edify-apjc/transcribe-input/botany/Plant Anatomy '\n",
      "                      'and Structure.mp4, '\n",
      "                      's3://edify-apjc/transcribe-input/botany/Mechanisms of '\n",
      "                      'Plant Growth.mp4]. Call to Customer Source did not '\n",
      "                      'succeed.\",\"Encountered error: Ignored 2 files as their '\n",
      "                      'file format was not supported. [Files: '\n",
      "                      's3://edify-apjc/transcribe-input/botany/Types of Plant '\n",
      "                      'Tissues.mp4, s3://edify-apjc/sample/podcast.mp3]. Call '\n",
      "                      'to Customer Source did not succeed.\",\"Encountered '\n",
      "                      'error: Ignored 3 files as their file format was not '\n",
      "                      'supported. [Files: '\n",
      "                      's3://edify-apjc/transcribe-input/botany/Introduction to '\n",
      "                      'Botany.mp4, '\n",
      "                      's3://edify-apjc/transcribe-input/botany/Plant Anatomy '\n",
      "                      'and Structure.mp4, '\n",
      "                      's3://edify-apjc/transcribe-input/botany/Mechanisms of '\n",
      "                      'Plant Growth.mp4]. Call to Customer Source did not '\n",
      "                      'succeed.\",\"Encountered error: Ignored 2 files as their '\n",
      "                      'file format was not supported. [Files: '\n",
      "                      's3://edify-apjc/transcribe-input/botany/Types of Plant '\n",
      "                      'Tissues.mp4, s3://edify-apjc/sample/podcast.mp3]. Call '\n",
      "                      'to Customer Source did not succeed.\",\"Encountered '\n",
      "                      'error: Ignored 3 files as their file format was not '\n",
      "                      'supported. [Files: '\n",
      "                      's3://edify-apjc/transcribe-input/botany/Introduction to '\n",
      "                      'Botany.mp4, '\n",
      "                      's3://edify-apjc/transcribe-input/botany/Plant Anatomy '\n",
      "                      'and Structure.mp4, '\n",
      "                      's3://edify-apjc/transcribe-input/botany/Mechanisms of '\n",
      "                      'Plant Growth.mp4]. Call to Customer Source did not '\n",
      "                      'succeed.\",\"Encountered error: Ignored 2 files as their '\n",
      "                      'file format was not supported. [Files: '\n",
      "                      's3://edify-apjc/transcribe-input/botany/Types of Plant '\n",
      "                      'Tissues.mp4, s3://edify-apjc/sample/podcast.mp3]. Call '\n",
      "                      'to Customer Source did not succeed.\",\"Encountered '\n",
      "                      'error: Ignored 3 files as their file format was not '\n",
      "                      'supported. [Files: '\n",
      "                      's3://edify-apjc/transcribe-input/botany/Introduction to '\n",
      "                      'Botany.mp4, '\n",
      "                      's3://edify-apjc/transcribe-input/botany/Plant Anatomy '\n",
      "                      'and Structure.mp4, '\n",
      "                      's3://edify-apjc/transcribe-input/botany/Mechanisms of '\n",
      "                      'Plant Growth.mp4]. Call to Customer Source did not '\n",
      "                      'succeed.\",\"Encountered error: Ignored 2 files as their '\n",
      "                      'file format was not supported. [Files: '\n",
      "                      's3://edify-apjc/transcribe-input/botany/Types of Plant '\n",
      "                      'Tissues.mp4, s3://edify-apjc/sample/podcast.mp3]. Call '\n",
      "                      'to Customer Source did not succeed.\",\"Encountered '\n",
      "                      'error: Ignored 3 files as their file format was not '\n",
      "                      'supported. [Files: '\n",
      "                      's3://edify-apjc/transcribe-input/botany/Introduction to '\n",
      "                      'Botany.mp4, '\n",
      "                      's3://edify-apjc/transcribe-input/botany/Plant Anatomy '\n",
      "                      'and Structure.mp4, '\n",
      "                      's3://edify-apjc/transcribe-input/botany/Mechanisms of '\n",
      "                      'Plant Growth.mp4]. Call to Customer Source did not '\n",
      "                      'succeed.\",\"Encountered error: Ignored 2 files as their '\n",
      "                      'file format was not supported. [Files: '\n",
      "                      's3://edify-apjc/transcribe-input/botany/Types of Plant '\n",
      "                      'Tissues.mp4, s3://edify-apjc/sample/podcast.mp3]. Call '\n",
      "                      'to Customer Source did not succeed.\",\"Encountered '\n",
      "                      'error: Ignored 3 files as their file format was not '\n",
      "                      'supported. [Files: '\n",
      "                      's3://edify-apjc/transcribe-input/botany/Introduction to '\n",
      "                      'Botany.mp4, '\n",
      "                      's3://edify-apjc/transcribe-input/botany/Plant Anatomy '\n",
      "                      'and Structure.mp4, '\n",
      "                      's3://edify-apjc/transcribe-input/botany/Mechanisms of '\n",
      "                      'Plant Growth.mp4]. Call to Customer Source did not '\n",
      "                      'succeed.\",\"Encountered error: Ignored 2 files as their '\n",
      "                      'file format was not supported. [Files: '\n",
      "                      's3://edify-apjc/transcribe-input/botany/Types of Plant '\n",
      "                      'Tissues.mp4, s3://edify-apjc/sample/podcast.mp3]. Call '\n",
      "                      'to Customer Source did not succeed.\",\"Encountered '\n",
      "                      'error: Ignored 3 files as their file format was not '\n",
      "                      'supported. [Files: '\n",
      "                      's3://edify-apjc/transcribe-input/botany/Introduction to '\n",
      "                      'Botany.mp4, '\n",
      "                      's3://edify-apjc/transcribe-input/botany/Plant Anatomy '\n",
      "                      'and Structure.mp4, '\n",
      "                      's3://edify-apjc/transcribe-input/botany/Mechanisms of '\n",
      "                      'Plant Growth.mp4]. Call to Customer Source did not '\n",
      "                      'succeed.\",\"Encountered error: Ignored 2 files as their '\n",
      "                      'file format was not supported. [Files: '\n",
      "                      's3://edify-apjc/transcribe-input/botany/Types of Plant '\n",
      "                      'Tissues.mp4, s3://edify-apjc/sample/podcast.mp3]. Call '\n",
      "                      'to Customer Source did not succeed.\",\"Encountered '\n",
      "                      'error: Ignored 3 files as their file format was not '\n",
      "                      'supported. [Files: '\n",
      "                      's3://edify-apjc/transcribe-input/botany/Introduction to '\n",
      "                      'Botany.mp4, '\n",
      "                      's3://edify-apjc/transcribe-input/botany/Plant Anatomy '\n",
      "                      'and Structure.mp4, '\n",
      "                      's3://edify-apjc/transcribe-input/botany/Mechanisms of '\n",
      "                      'Plant Growth.mp4]. Call to Customer Source did not '\n",
      "                      'succeed.\",\"Encountered error: Ignored 2 files as their '\n",
      "                      'file format was not supported. [Files: '\n",
      "                      's3://edify-apjc/transcribe-input/botany/Types of Plant '\n",
      "                      'Tissues.mp4, s3://edify-apjc/sample/podcast.mp3]. Call '\n",
      "                      'to Customer Source did not succeed.\",\"Encountered '\n",
      "                      'error: Ignored 3 files as their file format was not '\n",
      "                      'supported. [Files: '\n",
      "                      's3://edify-apjc/transcribe-input/botany/Introduction to '\n",
      "                      'Botany.mp4, '\n",
      "                      's3://edify-apjc/transcribe-input/botany/Plant Anatomy '\n",
      "                      'and Structure.mp4, '\n",
      "                      's3://edify-apjc/transcribe-input/botany/Mechanisms of '\n",
      "                      'Plant Growth.mp4]. Call to Customer Source did not '\n",
      "                      'succeed.\",\"Encountered error: Ignored 2 files as their '\n",
      "                      'file format was not supported. [Files: '\n",
      "                      's3://edify-apjc/transcribe-input/botany/Types of Plant '\n",
      "                      'Tissues.mp4, s3://edify-apjc/sample/podcast.mp3]. Call '\n",
      "                      'to Customer Source did not succeed.\",\"Encountered '\n",
      "                      'error: Ignored 3 files as their file format was not '\n",
      "                      'supported. [Files: '\n",
      "                      's3://edify-apjc/transcribe-input/botany/Introduction to '\n",
      "                      'Botany.mp4, '\n",
      "                      's3://edify-apjc/transcribe-input/botany/Plant Anatomy '\n",
      "                      'and Structure.mp4, '\n",
      "                      's3://edify-apjc/transcribe-input/botany/Mechanisms of '\n",
      "                      'Plant Growth.mp4]. Call to Customer Source did not '\n",
      "                      'succeed.\",\"Encountered error: Ignored 2 files as their '\n",
      "                      'file format was not supported. [Files: '\n",
      "                      's3://edify-apjc/transcribe-input/botany/Types of Plant '\n",
      "                      'Tissues.mp4, s3://edify-apjc/sample/podcast.mp3]. Call '\n",
      "                      'to Customer Source did not succeed.\",\"Encountered '\n",
      "                      'error: Ignored 3 files as their file format was not '\n",
      "                      'supported. [Files: '\n",
      "                      's3://edify-apjc/transcribe-input/botany/Introduction to '\n",
      "                      'Botany.mp4, '\n",
      "                      's3://edify-apjc/transcribe-input/botany/Plant Anatomy '\n",
      "                      'and Structure.mp4, '\n",
      "                      's3://edify-apjc/transcribe-input/botany/Mechanisms of '\n",
      "                      'Plant Growth.mp4]. Call to Customer Source did not '\n",
      "                      'succeed.\",\"Encountered error: Ignored 2 files as their '\n",
      "                      'file format was not supported. [Files: '\n",
      "                      's3://edify-apjc/transcribe-input/botany/Types of Plant '\n",
      "                      'Tissues.mp4, s3://edify-apjc/sample/podcast.mp3]. Call '\n",
      "                      'to Customer Source did not succeed.\",\"Encountered '\n",
      "                      'error: Ignored 3 files as their file format was not '\n",
      "                      'supported. [Files: '\n",
      "                      's3://edify-apjc/transcribe-input/botany/Introduction to '\n",
      "                      'Botany.mp4, '\n",
      "                      's3://edify-apjc/transcribe-input/botany/Plant Anatomy '\n",
      "                      'and Structure.mp4, '\n",
      "                      's3://edify-apjc/transcribe-input/botany/Mechanisms of '\n",
      "                      'Plant Growth.mp4]. Call to Customer Source did not '\n",
      "                      'succeed.\",\"Encountered error: Ignored 2 files as their '\n",
      "                      'file format was not supported. [Files: '\n",
      "                      's3://edify-apjc/transcribe-input/botany/Types of Plant '\n",
      "                      'Tissues.mp4, s3://edify-apjc/sample/podcast.mp3]. Call '\n",
      "                      'to Customer Source did not succeed.\",\"Encountered '\n",
      "                      'error: Ignored 3 files as their file format was not '\n",
      "                      'supported. [Files: '\n",
      "                      's3://edify-apjc/transcribe-input/botany/Introduction to '\n",
      "                      'Botany.mp4, '\n",
      "                      's3://edify-apjc/transcribe-input/botany/Plant Anatomy '\n",
      "                      'and Structure.mp4, '\n",
      "                      's3://edify-apjc/transcribe-input/botany/Mechanisms of '\n",
      "                      'Plant Growth.mp4]. Call to Customer Source did not '\n",
      "                      'succeed.\",\"Encountered error: Ignored 2 files as their '\n",
      "                      'file format was not supported. [Files: '\n",
      "                      's3://edify-apjc/transcribe-input/botany/Types of Plant '\n",
      "                      'Tissues.mp4, s3://edify-apjc/sample/podcast.mp3]. Call '\n",
      "                      'to Customer Source did not succeed.\",\"Encountered '\n",
      "                      'error: Ignored 3 files as their file format was not '\n",
      "                      'supported. [Files: '\n",
      "                      's3://edify-apjc/transcribe-input/botany/Introduction to '\n",
      "                      'Botany.mp4, '\n",
      "                      's3://edify-apjc/transcribe-input/botany/Plant Anatomy '\n",
      "                      'and Structure.mp4, '\n",
      "                      's3://edify-apjc/transcribe-input/botany/Mechanisms of '\n",
      "                      'Plant Growth.mp4]. Call to Customer Source did not '\n",
      "                      'succeed.\",\"Encountered error: Ignored 2 files as their '\n",
      "                      'file format was not supported. [Files: '\n",
      "                      's3://edify-apjc/transcribe-input/botany/Types of Plant '\n",
      "                      'Tissues.mp4, s3://edify-apjc/sample/podcast.mp3]. Call '\n",
      "                      'to Customer Source did not succeed.\",\"Encountered '\n",
      "                      'error: Ignored 3 files as their file format was not '\n",
      "                      'supported. [Files: '\n",
      "                      's3://edify-apjc/transcribe-input/botany/Introduction to '\n",
      "                      'Botany.mp4, '\n",
      "                      's3://edify-apjc/transcribe-input/botany/Plant Anatomy '\n",
      "                      'and Structure.mp4, '\n",
      "                      's3://edify-apjc/transcribe-input/botany/Mechanisms of '\n",
      "                      'Plant Growth.mp4]. Call to Customer Source did not '\n",
      "                      'succeed.\",\"Encountered error: Ignored 2 files as their '\n",
      "                      'file format was not supported. [Files: '\n",
      "                      's3://edify-apjc/transcribe-input/botany/Types of Plant '\n",
      "                      'Tissues.mp4, s3://edify-apjc/sample/podcast.mp3]. Call '\n",
      "                      'to Customer Source did not succeed.\",\"Encountered '\n",
      "                      'error: Ignored 3 files as their file format was not '\n",
      "                      'supported. [Files: '\n",
      "                      's3://edify-apjc/transcribe-input/botany/Introduction to '\n",
      "                      'Botany.mp4, '\n",
      "                      's3://edify-apjc/transcribe-input/botany/Plant Anatomy '\n",
      "                      'and Structure.mp4, '\n",
      "                      's3://edify-apjc/transcribe-input/botany/Mechanisms of '\n",
      "                      'Plant Growth.mp4]. Call to Customer Source did not '\n",
      "                      'succeed.\",\"Encountered error: Ignored 2 files as their '\n",
      "                      'file format was not supported. [Files: '\n",
      "                      's3://edify-apjc/transcribe-input/botany/Types of Plant '\n",
      "                      'Tissues.mp4, s3://edify-apjc/sample/podcast.mp3]. Call '\n",
      "                      'to Customer Source did not succeed.\",\"Encountered '\n",
      "                      'error: Ignored 3 files as their file format was not '\n",
      "                      'supported. [Files: '\n",
      "                      's3://edify-apjc/transcribe-input/botany/Introduction to '\n",
      "                      'Botany.mp4, '\n",
      "                      's3://edify-apjc/transcribe-input/botany/Plant Anatomy '\n",
      "                      'and Structure.mp4, '\n",
      "                      's3://edify-apjc/transcribe-input/botany/Mechanisms of '\n",
      "                      'Plant Growth.mp4]. Call to Customer Source did not '\n",
      "                      'succeed.\",\"Encountered error: Ignored 2 files as their '\n",
      "                      'file format was not supported. [Files: '\n",
      "                      's3://edify-apjc/transcribe-input/botany/Types of Plant '\n",
      "                      'Tissues.mp4, s3://edify-apjc/sample/podcast.mp3]. Call '\n",
      "                      'to Customer Source did not succeed.\",\"Encountered '\n",
      "                      'error: Ignored 3 files as their file format was not '\n",
      "                      'supported. [Files: '\n",
      "                      's3://edify-apjc/transcribe-input/botany/Introduction to '\n",
      "                      'Botany.mp4, '\n",
      "                      's3://edify-apjc/transcribe-input/botany/Plant Anatomy '\n",
      "                      'and Structure.mp4, '\n",
      "                      's3://edify-apjc/transcribe-input/botany/Mechanisms of '\n",
      "                      'Plant Growth.mp4]. Call to Customer Source did not '\n",
      "                      'succeed.\",\"Encountered error: Ignored 2 files as their '\n",
      "                      'file format was not supported. [Files: '\n",
      "                      's3://edify-apjc/transcribe-input/botany/Types of Plant '\n",
      "                      'Tissues.mp4, s3://edify-apjc/sample/podcast.mp3]. Call '\n",
      "                      'to Customer Source did not succeed.\",\"Encountered '\n",
      "                      'error: Ignored 3 files as their file format was not '\n",
      "                      'supported. [Files: '\n",
      "                      's3://edify-apjc/transcribe-input/botany/Introduction to '\n",
      "                      'Botany.mp4, '\n",
      "                      's3://edify-apjc/transcribe-input/botany/Plant Anatomy '\n",
      "                      'and Structure.mp4, '\n",
      "                      's3://edify-apjc/transcribe-input/botany/Mechanisms of '\n",
      "                      'Plant Growth.mp4]. Call to Customer Source did not '\n",
      "                      'succeed.\",\"Encountered error: Ignored 2 files as their '\n",
      "                      'file format was not supported. [Files: '\n",
      "                      's3://edify-apjc/transcribe-input/botany/Types of Plant '\n",
      "                      'Tissues.mp4, s3://edify-apjc/sample/podcast.mp3]. Call '\n",
      "                      'to Customer Source did not succeed.\",\"Encountered '\n",
      "                      'error: Ignored 3 files as their file format was not '\n",
      "                      'supported. [Files: '\n",
      "                      's3://edify-apjc/transcribe-input/botany/Introduction to '\n",
      "                      'Botany.mp4, '\n",
      "                      's3://edify-apjc/transcribe-input/botany/Plant Anatomy '\n",
      "                      'and Structure.mp4, '\n",
      "                      's3://edify-apjc/transcribe-input/botany/Mechanisms of '\n",
      "                      'Plant Growth.mp4]. Call to Customer Source did not '\n",
      "                      'succeed.\",\"Encountered error: Ignored 2 files as their '\n",
      "                      'file format was not supported. [Files: '\n",
      "                      's3://edify-apjc/transcribe-input/botany/Types of Plant '\n",
      "                      'Tissues.mp4, s3://edify-apjc/sample/podcast.mp3]. Call '\n",
      "                      'to Customer Source did not succeed.\",\"Encountered '\n",
      "                      'error: Ignored 3 files as their file format was not '\n",
      "                      'supported. [Files: '\n",
      "                      's3://edify-apjc/transcribe-input/botany/Introduction to '\n",
      "                      'Botany.mp4, '\n",
      "                      's3://edify-apjc/transcribe-input/botany/Plant Anatomy '\n",
      "                      'and Structure.mp4, '\n",
      "                      's3://edify-apjc/transcribe-input/botany/Mechanisms of '\n",
      "                      'Plant Growth.mp4]. Call to Customer Source did not '\n",
      "                      'succeed.\",\"Encountered error: Ignored 2 files as their '\n",
      "                      'file format was not supported. [Files: '\n",
      "                      's3://edify-apjc/transcribe-input/botany/Types of Plant '\n",
      "                      'Tissues.mp4, s3://edify-apjc/sample/podcast.mp3]. Call '\n",
      "                      'to Customer Source did not succeed.\",\"Encountered '\n",
      "                      'error: Ignored 3 files as their file format was not '\n",
      "                      'supported. [Files: '\n",
      "                      's3://edify-apjc/transcribe-input/botany/Introduction to '\n",
      "                      'Botany.mp4, '\n",
      "                      's3://edify-apjc/transcribe-input/botany/Plant Anatomy '\n",
      "                      'and Structure.mp4, '\n",
      "                      's3://edify-apjc/transcribe-input/botany/Mechanisms of '\n",
      "                      'Plant Growth.mp4]. Call to Customer Source did not '\n",
      "                      'succeed.\",\"Encountered error: Ignored 2 files as their '\n",
      "                      'file format was not supported. [Files: '\n",
      "                      's3://edify-apjc/transcribe-input/botany/Types of Plant '\n",
      "                      'Tissues.mp4, s3://edify-apjc/sample/podcast.mp3]. Call '\n",
      "                      'to Customer Source did not succeed.\",\"Encountered '\n",
      "                      'error: Ignored 3 files as their file format was not '\n",
      "                      'supported. [Files: '\n",
      "                      's3://edify-apjc/transcribe-input/botany/Introduction to '\n",
      "                      'Botany.mp4, '\n",
      "                      's3://edify-apjc/transcribe-input/botany/Plant Anatomy '\n",
      "                      'and Structure.mp4, '\n",
      "                      's3://edify-apjc/transcribe-input/botany/Mechanisms of '\n",
      "                      'Plant Growth.mp4]. Call to Customer Source did not '\n",
      "                      'succeed.\",\"Encountered error: Ignored 2 files as their '\n",
      "                      'file format was not supported. [Files: '\n",
      "                      's3://edify-apjc/transcribe-input/botany/Types of Plant '\n",
      "                      'Tissues.mp4, s3://edify-apjc/sample/podcast.mp3]. Call '\n",
      "                      'to Customer Source did not succeed.\",\"Encountered '\n",
      "                      'error: Ignored 3 files as their file format was not '\n",
      "                      'supported. [Files: '\n",
      "                      's3://edify-apjc/transcribe-input/botany/Introduction to '\n",
      "                      'Botany.mp4, '\n",
      "                      's3://edify-apjc/transcribe-input/botany/Plant Anatomy '\n",
      "                      'and Structure.mp4, '\n",
      "                      's3://edify-apjc/transcribe-input/botany/Mechanisms of '\n",
      "                      'Plant Growth.mp4]. Call to Customer Source did not '\n",
      "                      'succeed.\",\"Encountered error: Ignored 2 files as their '\n",
      "                      'file format was not supported. [Files: '\n",
      "                      's3://edify-apjc/transcribe-input/botany/Types of Plant '\n",
      "                      'Tissues.mp4, s3://edify-apjc/sample/podcast.mp3]. Call '\n",
      "                      'to Customer Source did not succeed.\",\"Encountered '\n",
      "                      'error: Ignored 3 files as their file format was not '\n",
      "                      'supported. [Files: '\n",
      "                      's3://edify-apjc/transcribe-input/botany/Introduction to '\n",
      "                      'Botany.mp4, '\n",
      "                      's3://edify-apjc/transcribe-input/botany/Plant Anatomy '\n",
      "                      'and Structure.mp4, '\n",
      "                      's3://edify-apjc/transcribe-input/botany/Mechanisms of '\n",
      "                      'Plant Growth.mp4]. Call to Customer Source did not '\n",
      "                      'succeed.\",\"Encountered error: Ignored 2 files as their '\n",
      "                      'file format was not supported. [Files: '\n",
      "                      's3://edify-apjc/transcribe-input/botany/Types of Plant '\n",
      "                      'Tissues.mp4, s3://edify-apjc/sample/podcast.mp3]. Call '\n",
      "                      'to Customer Source did not succeed.\",\"Encountered '\n",
      "                      'error: Ignored 3 files as their file format was not '\n",
      "                      'supported. [Files: '\n",
      "                      's3://edify-apjc/transcribe-input/botany/Introduction to '\n",
      "                      'Botany.mp4, '\n",
      "                      's3://edify-apjc/transcribe-input/botany/Plant Anatomy '\n",
      "                      'and Structure.mp4, '\n",
      "                      's3://edify-apjc/transcribe-input/botany/Mechanisms of '\n",
      "                      'Plant Growth.mp4]. Call to Customer Source did not '\n",
      "                      'succeed.\",\"Encountered error: Ignored 2 files as their '\n",
      "                      'file format was not supported. [Files: '\n",
      "                      's3://edify-apjc/transcribe-input/botany/Types of Plant '\n",
      "                      'Tissues.mp4, s3://edify-apjc/sample/podcast.mp3]. Call '\n",
      "                      'to Customer Source did not succeed.\",\"Encountered '\n",
      "                      'error: Ignored 3 files as their file format was not '\n",
      "                      'supported. [Files: '\n",
      "                      's3://edify-apjc/transcribe-input/botany/Introduction to '\n",
      "                      'Botany.mp4, '\n",
      "                      's3://edify-apjc/transcribe-input/botany/Plant Anatomy '\n",
      "                      'and Structure.mp4, '\n",
      "                      's3://edify-apjc/transcribe-input/botany/Mechanisms of '\n",
      "                      'Plant Growth.mp4]. Call to Customer Source did not '\n",
      "                      'succeed.\"]'],\n",
      "  'ingestionJobId': 'QXYX750ICY',\n",
      "  'knowledgeBaseId': '5SSLBN29TM',\n",
      "  'startedAt': datetime.datetime(2024, 8, 29, 7, 19, 56, 98919, tzinfo=tzlocal()),\n",
      "  'statistics': { 'numberOfDocumentsDeleted': 0,\n",
      "                  'numberOfDocumentsFailed': 7,\n",
      "                  'numberOfDocumentsScanned': 28,\n",
      "                  'numberOfModifiedDocumentsIndexed': 0,\n",
      "                  'numberOfNewDocumentsIndexed': 14},\n",
      "  'status': 'COMPLETE',\n",
      "  'updatedAt': datetime.datetime(2024, 8, 29, 7, 22, 32, 691733, tzinfo=tzlocal())}\n",
      "Done!.............................................\n"
     ]
    }
   ],
   "source": [
    "while(job['status']!='COMPLETE' ):\n",
    "    get_job_response = bedrock_agent_client.get_ingestion_job(\n",
    "      knowledgeBaseId = kb['knowledgeBaseId'],\n",
    "        dataSourceId = ds[\"dataSourceId\"],\n",
    "        ingestionJobId = job[\"ingestionJobId\"]\n",
    "  )\n",
    "    job = get_job_response[\"ingestionJob\"]\n",
    "pp.pprint(job)\n",
    "interactive_sleep(50)"
   ]
  },
  {
   "cell_type": "markdown",
   "id": "609832d2",
   "metadata": {},
   "source": [
    "Checking the Knowledge Base ID"
   ]
  },
  {
   "cell_type": "code",
   "execution_count": 130,
   "id": "8f4ac278-2d87-483f-9545-20dea328ef3e",
   "metadata": {},
   "outputs": [
    {
     "name": "stdout",
     "output_type": "stream",
     "text": [
      "'5SSLBN29TM'\n"
     ]
    }
   ],
   "source": [
    "kb_id = kb[\"knowledgeBaseId\"]\n",
    "pp.pprint(kb_id)"
   ]
  },
  {
   "cell_type": "code",
   "execution_count": 131,
   "id": "0762fcb6-4f72-4dd9-a774-c6928a252549",
   "metadata": {},
   "outputs": [
    {
     "name": "stdout",
     "output_type": "stream",
     "text": [
      "Stored 'kb_id' (str)\n"
     ]
    }
   ],
   "source": [
    "%store kb_id"
   ]
  },
  {
   "cell_type": "markdown",
   "id": "920ba200-9c45-47a2-bcb3-7c1e1927e796",
   "metadata": {},
   "source": [
    "### Step 12 :  Testing output with RAG "
   ]
  },
  {
   "cell_type": "code",
   "execution_count": 139,
   "id": "223caef0-d030-4ef2-ab82-0956df6b2b55",
   "metadata": {},
   "outputs": [],
   "source": [
    "bedrock_agent_runtime_client = boto3.client(\"bedrock-agent-runtime\", region_name=region_name)\n",
    "\n",
    "claude_model_ids = [\n",
    "    [\"Claude 3 Sonnet\", \"anthropic.claude-3-sonnet-20240229-v1:0\"],\n",
    "    [\"Claude Instant\", \"anthropic.claude-instant-v1\"]\n",
    "]"
   ]
  },
  {
   "cell_type": "code",
   "execution_count": 140,
   "id": "be3c6cd1-411a-49f4-b55f-21c25c736bf5",
   "metadata": {},
   "outputs": [],
   "source": [
    "def ask_bedrock_llm_with_knowledge_base(query: str, model_arn: str, kb_id: str) -> str:\n",
    "    response = bedrock_agent_runtime_client.retrieve_and_generate(\n",
    "        input={\n",
    "            'text': query\n",
    "        },\n",
    "        retrieveAndGenerateConfiguration={\n",
    "            'type': 'KNOWLEDGE_BASE',\n",
    "            'knowledgeBaseConfiguration': {\n",
    "                'knowledgeBaseId': kb_id,\n",
    "                'modelArn': model_arn\n",
    "            }\n",
    "        },\n",
    "    )\n",
    "\n",
    "    return response"
   ]
  },
  {
   "cell_type": "code",
   "execution_count": 141,
   "id": "e3a6d4f8-148f-4dc5-8272-a9c5a126a177",
   "metadata": {},
   "outputs": [
    {
     "name": "stdout",
     "output_type": "stream",
     "text": [
      "---------- Generated using Claude 3 Sonnet:\n",
      "('The lecture explains that the Schrodinger equation governs the time '\n",
      " \"evolution of a quantum system's wavefunction. Specifically, given a \"\n",
      " 'wavefunction at some initial time, the Schrodinger equation allows us to '\n",
      " 'determine the time derivative (rate of change) of the wavefunction and '\n",
      " 'integrate it forward in time to find how the wavefunction evolves over time. '\n",
      " 'The lecture also notes that time evolution in quantum mechanics, governed by '\n",
      " 'the Schrodinger equation, is surprisingly simple compared to classical '\n",
      " 'mechanics. The Schrodinger equation is a linear differential equation, '\n",
      " 'whereas the equations of motion in classical mechanics are generally highly '\n",
      " 'nonlinear.')\n",
      "---------- The citations for the response generated by Claude 3 Sonnet:\n",
      "[ 'And so that leaves us with the following question, which is another way of '\n",
      "  'asking the question you just asked, what happens next? How does the system '\n",
      "  'evolve subsequently? And at the very end of the last lecture, we answered '\n",
      "  'that rather baron answer that by introducing the trading equation in the '\n",
      "  \"trading equation, we don't derive, we just pause it much like Newton posits \"\n",
      "  \"F equals ma you can motivate it, but you can't derive it. It's just what we \"\n",
      "  \"mean by the quantum mechanical model. And Schrodinger's equation says given \"\n",
      "  'a wave function, I can determine the time derivative, the time rate of '\n",
      "  \"change of that wave function and determine its time evolution. And it's \"\n",
      "  \"time derivative, it's slope its velocity if you will is one upon ih bar the \"\n",
      "  'energy operator acting on that wave function. So suppose we measure that '\n",
      "  'our observable capital A takes the value of little A one of the eigenvalues '\n",
      "  'of the associated operators. Suppose we measure that a equals little A at '\n",
      "  'some bear moment T star. Then we know that the wave function is si X at '\n",
      "  'that moment in time, we can then compute the time derivative of the wave '\n",
      "  'function at that moment in time by acting on this wave function with the '\n",
      "  'operator E hat with the energy operator. And we can then integrate that '\n",
      "  'differential equation forward in time and determine how the wave function '\n",
      "  \"evolves. The point of today's lecture is going to be to study how time \"\n",
      "  'evolution works in quantum mechanics. And to look at some basic examples '\n",
      "  'and basic strategies for solving the time evolution problem in quantum '\n",
      "  'mechanics. One of the great surprises in quantum mechanics hold on just one '\n",
      "  'sec one of the real surprises in quantum mechanics is that time evolution '\n",
      "  \"is in a very specific sense trivial in quantum mechanics. It's \"\n",
      "  'preposterously simple in particular time evolution is governed by a linear '\n",
      "  'equation. How many of you have studied a classical mechanical system where '\n",
      "  'the where the time evolution is governed by a linear equation, right. OK. '\n",
      "  'All of you the harmonic oscillator but otherwise not at all. Otherwise the '\n",
      "  'equations in classical mechanics are generically highly nonlinear. The the '\n",
      "  'time rate of change of position of a particle is the gradient of the force '\n",
      "  'and the force is generally some complicated function of position. And '\n",
      "  \"you've got some capacitors over here and maybe some magnetic field, it's \"\n",
      "  'very nonlinear evolution in quantum mechanics is linear. And this is, this '\n",
      "  \"is gonna be surprising. It's gonna lead to some surprising simplifications \"\n",
      "  \"and we'll turn back to that.\",\n",
      "  'And we can then integrate that differential equation forward in time and '\n",
      "  'determine how the wave function '\n",
      "  'evolves.\",\"start_time\":\"780.799\",\"end_time\":\"798.489\",\"items\":[2444,2445,2446,2447,2448,2449,2450,2451,2452,2453,2454,2455,2456,2457,2458,2459,2460,2461,2462,2463,2464,2465,2466,2467,2468,2469,2470,2471,2472,2473,2474,2475,2476,2477,2478,2479,2480,2481,2482,2483,2484,2485,2486,2487,2488,2489,2490,2491,2492,2493,2494,2495,2496,2497,2498,2499,2500,2501,2502,2503,2504,2505,2506,2507,2508,2509,2510]},{\"id\":74,\"transcript\":\"The '\n",
      "  \"point of today's lecture is going to be to study how time evolution works \"\n",
      "  'in quantum mechanics. And to look at some basic examples and basic '\n",
      "  'strategies for solving the time evolution problem in quantum '\n",
      "  'mechanics.\",\"start_time\":\"799.02\",\"end_time\":\"812.44\",\"items\":[2511,2512,2513,2514,2515,2516,2517,2518,2519,2520,2521,2522,2523,2524,2525,2526,2527,2528,2529,2530,2531,2532,2533,2534,2535,2536,2537,2538,2539,2540,2541,2542,2543,2544,2545,2546,2547,2548,2549]},{\"id\":75,\"transcript\":\"One '\n",
      "  'of the great surprises in quantum mechanics hold on just one sec one of the '\n",
      "  'real surprises in quantum mechanics is that time evolution is in a very '\n",
      "  'specific sense trivial in quantum mechanics.',\n",
      "  'And we can then integrate that differential equation forward in time and '\n",
      "  'determine how the wave function '\n",
      "  'evolves.\",\"start_time\":\"780.799\",\"end_time\":\"798.489\",\"items\":[2444,2445,2446,2447,2448,2449,2450,2451,2452,2453,2454,2455,2456,2457,2458,2459,2460,2461,2462,2463,2464,2465,2466,2467,2468,2469,2470,2471,2472,2473,2474,2475,2476,2477,2478,2479,2480,2481,2482,2483,2484,2485,2486,2487,2488,2489,2490,2491,2492,2493,2494,2495,2496,2497,2498,2499,2500,2501,2502,2503,2504,2505,2506,2507,2508,2509,2510]},{\"id\":74,\"transcript\":\"The '\n",
      "  \"point of today's lecture is going to be to study how time evolution works \"\n",
      "  'in quantum mechanics. And to look at some basic examples and basic '\n",
      "  'strategies for solving the time evolution problem in quantum '\n",
      "  'mechanics.\",\"start_time\":\"799.02\",\"end_time\":\"812.44\",\"items\":[2511,2512,2513,2514,2515,2516,2517,2518,2519,2520,2521,2522,2523,2524,2525,2526,2527,2528,2529,2530,2531,2532,2533,2534,2535,2536,2537,2538,2539,2540,2541,2542,2543,2544,2545,2546,2547,2548,2549]},{\"id\":75,\"transcript\":\"One '\n",
      "  'of the great surprises in quantum mechanics hold on just one sec one of the '\n",
      "  'real surprises in quantum mechanics is that time evolution is in a very '\n",
      "  'specific sense trivial in quantum mechanics.']\n",
      "\n",
      "---------- Generated using Claude Instant:\n",
      "('The lecture relates the Schrodinger equation to time evolution by stating '\n",
      " 'that the Schrodinger equation describes how the wave function evolves over '\n",
      " 'time. Specifically, it says that the Schrodinger equation gives the time '\n",
      " 'derivative of the wave function and can be used to integrate it forward in '\n",
      " 'time to determine how the wave function changes.')\n",
      "---------- The citations for the response generated by Claude Instant:\n",
      "[ 'And we can then integrate that differential equation forward in time and '\n",
      "  'determine how the wave function '\n",
      "  'evolves.\",\"start_time\":\"780.799\",\"end_time\":\"798.489\",\"items\":[2444,2445,2446,2447,2448,2449,2450,2451,2452,2453,2454,2455,2456,2457,2458,2459,2460,2461,2462,2463,2464,2465,2466,2467,2468,2469,2470,2471,2472,2473,2474,2475,2476,2477,2478,2479,2480,2481,2482,2483,2484,2485,2486,2487,2488,2489,2490,2491,2492,2493,2494,2495,2496,2497,2498,2499,2500,2501,2502,2503,2504,2505,2506,2507,2508,2509,2510]},{\"id\":74,\"transcript\":\"The '\n",
      "  \"point of today's lecture is going to be to study how time evolution works \"\n",
      "  'in quantum mechanics. And to look at some basic examples and basic '\n",
      "  'strategies for solving the time evolution problem in quantum '\n",
      "  'mechanics.\",\"start_time\":\"799.02\",\"end_time\":\"812.44\",\"items\":[2511,2512,2513,2514,2515,2516,2517,2518,2519,2520,2521,2522,2523,2524,2525,2526,2527,2528,2529,2530,2531,2532,2533,2534,2535,2536,2537,2538,2539,2540,2541,2542,2543,2544,2545,2546,2547,2548,2549]},{\"id\":75,\"transcript\":\"One '\n",
      "  'of the great surprises in quantum mechanics hold on just one sec one of the '\n",
      "  'real surprises in quantum mechanics is that time evolution is in a very '\n",
      "  'specific sense trivial in quantum mechanics.']\n",
      "\n"
     ]
    }
   ],
   "source": [
    "query = \" how does the lecture relate time and schrodinger equation?\"\n",
    "\n",
    "for model_id in claude_model_ids:\n",
    "    model_arn = f'arn:aws:bedrock:{region_name}::foundation-model/{model_id[1]}'\n",
    "    response = ask_bedrock_llm_with_knowledge_base(query, model_arn, kb_id)\n",
    "    generated_text = response['output']['text']\n",
    "    citations = response[\"citations\"]\n",
    "    contexts = []\n",
    "    for citation in citations:\n",
    "        retrievedReferences = citation[\"retrievedReferences\"]\n",
    "        for reference in retrievedReferences:\n",
    "            contexts.append(reference[\"content\"][\"text\"])\n",
    "    print(f\"---------- Generated using {model_id[0]}:\")\n",
    "    pp.pprint(generated_text )\n",
    "    print(f'---------- The citations for the response generated by {model_id[0]}:')\n",
    "    pp.pprint(contexts)\n",
    "    print()"
   ]
  },
  {
   "cell_type": "markdown",
   "id": "4f62dd9c-ecec-4e1e-b262-8488f17e3d2a",
   "metadata": {},
   "source": [
    "Test summarization"
   ]
  },
  {
   "cell_type": "code",
   "execution_count": 142,
   "id": "8116f35d-ead4-4650-b5d0-5f7c81ce33bf",
   "metadata": {},
   "outputs": [],
   "source": [
    "import boto3\n",
    "import pprint\n",
    "from botocore.client import Config\n",
    "\n",
    "pp = pprint.PrettyPrinter(indent=2)\n",
    "\n",
    "bedrock_config = Config(connect_timeout=120, read_timeout=120, retries={'max_attempts': 0})\n",
    "bedrock_client = boto3.client('bedrock-runtime')\n",
    "bedrock_agent_client = boto3.client(\"bedrock-agent-runtime\",\n",
    "                              config=bedrock_config)\n",
    "boto3_session = boto3.session.Session()\n",
    "region_name = boto3_session.region_name\n",
    "\n",
    "model_id = \"anthropic.claude-v2\" # try with both claude instant as well as claude-v2. for claude v2 - \"anthropic.claude-v2\"\n",
    "region_id = \"us-east-1\" # replace it with the region you're running sagemaker notebook"
   ]
  },
  {
   "cell_type": "code",
   "execution_count": 143,
   "id": "a2ce8a19-b382-4322-9259-5ab83a742b71",
   "metadata": {},
   "outputs": [],
   "source": [
    "def retrieveAndGenerate(input, kbId, sessionId=None, model_id = \"anthropic.claude-v2\", region_id = \"us-east-1\"):\n",
    "    model_arn = f'arn:aws:bedrock:{region_id}::foundation-model/{model_id}'\n",
    "    if sessionId:\n",
    "        return bedrock_agent_client.retrieve_and_generate(\n",
    "            input={\n",
    "                'text': input\n",
    "            },\n",
    "            retrieveAndGenerateConfiguration={\n",
    "                'type': 'KNOWLEDGE_BASE',\n",
    "                'knowledgeBaseConfiguration': {\n",
    "                    'knowledgeBaseId': kbId,\n",
    "                    'modelArn': model_arn\n",
    "                }\n",
    "            },\n",
    "            sessionId=sessionId\n",
    "        )\n",
    "    else:\n",
    "        return bedrock_agent_client.retrieve_and_generate(\n",
    "            input={\n",
    "                'text': input\n",
    "            },\n",
    "            retrieveAndGenerateConfiguration={\n",
    "                'type': 'KNOWLEDGE_BASE',\n",
    "                'knowledgeBaseConfiguration': {\n",
    "                    'knowledgeBaseId': kbId,\n",
    "                    'modelArn': model_arn\n",
    "                }\n",
    "            }\n",
    "        )"
   ]
  },
  {
   "cell_type": "code",
   "execution_count": 144,
   "id": "0b751af1-7adc-4e05-a5dc-e56eaa09ca07",
   "metadata": {},
   "outputs": [
    {
     "name": "stdout",
     "output_type": "stream",
     "text": [
      "('The lecture covered energy eigenfunctions and wave functions in quantum '\n",
      " 'mechanics. The professor discussed that energy eigenfunctions satisfy the '\n",
      " 'time-independent Schrodinger equation and represent stationary states. The '\n",
      " 'wave function can be expanded in terms of energy eigenfunctions. Measuring '\n",
      " 'an observable collapses the wave function into an eigenstate of that '\n",
      " 'observable operator.')\n"
     ]
    }
   ],
   "source": [
    "query = \"can you summarize the lecture on wave functions and energy eigen states?\"\n",
    "response = retrieveAndGenerate(query, kb_id,model_id=model_id,region_id=region_id)\n",
    "generated_text = response['output']['text']\n",
    "pp.pprint(generated_text)"
   ]
  },
  {
   "cell_type": "code",
   "execution_count": 145,
   "id": "faa701f9-18a5-4d9e-a868-1807dbf57e2e",
   "metadata": {},
   "outputs": [
    {
     "name": "stdout",
     "output_type": "stream",
     "text": [
      "('The lecture summarizes the different types of plant pigments and their '\n",
      " 'functions. The main pigments discussed are chlorophyll, carotenoids, '\n",
      " 'anthocyanins, and flavonoids. Chlorophyll is the most important pigment for '\n",
      " 'photosynthesis and makes plants green. Carotenoids assist chlorophyll and '\n",
      " 'give red/orange/yellow colors. Anthocyanins produce red colors in '\n",
      " 'flowers/fruits. Flavonoids are found in plant cell vacuoles.')\n"
     ]
    }
   ],
   "source": [
    "query = \"summarize the lecture on plant pigments\"\n",
    "response = retrieveAndGenerate(query, kb_id,model_id=model_id,region_id=region_id)\n",
    "generated_text = response['output']['text']\n",
    "pp.pprint(generated_text)"
   ]
  },
  {
   "cell_type": "code",
   "execution_count": 146,
   "id": "d46d1694-2315-4a01-a2c8-7741f29666a4",
   "metadata": {},
   "outputs": [
    {
     "name": "stdout",
     "output_type": "stream",
     "text": [
      "'Sorry, I am unable to assist you with this request.'\n"
     ]
    }
   ],
   "source": [
    "query = \"what role does energy eigen states play in plant pigments?\"\n",
    "response = retrieveAndGenerate(query, kb_id,model_id=model_id,region_id=region_id)\n",
    "generated_text = response['output']['text']\n",
    "pp.pprint(generated_text)"
   ]
  },
  {
   "cell_type": "code",
   "execution_count": 148,
   "id": "972108fc-4638-4a2e-8976-1e054e21b682",
   "metadata": {},
   "outputs": [
    {
     "name": "stdout",
     "output_type": "stream",
     "text": [
      "('I could not find an exact answer to whether there is a relation between '\n",
      " 'energy eigenstates and plant pigments based on the provided search results. '\n",
      " 'The search results discuss various plant pigments and their roles, but do '\n",
      " 'not mention energy eigenstates.')\n"
     ]
    }
   ],
   "source": [
    "query = \"is there a relation between energy eigen states and plant pigments?\"\n",
    "response = retrieveAndGenerate(query, kb_id,model_id=model_id,region_id=region_id)\n",
    "generated_text = response['output']['text']\n",
    "pp.pprint(generated_text)"
   ]
  },
  {
   "cell_type": "code",
   "execution_count": 151,
   "id": "ae863b0d-2a5c-41d2-bff8-26d5ec786b3a",
   "metadata": {},
   "outputs": [
    {
     "name": "stdout",
     "output_type": "stream",
     "text": [
      "('The lecture discusses different types of plant pigments like chlorophyll, '\n",
      " 'carotenoids, anthocyanins, and phytochromes. Chlorophyll is the most '\n",
      " 'important pigment and is involved in photosynthesis. Carotenoids assist '\n",
      " 'chlorophyll in light absorption. Anthocyanins produce red colors in plants. '\n",
      " 'Phytochromes regulate plant growth and development.')\n"
     ]
    }
   ],
   "source": [
    "    query = \"provide a gist of plant pigments and mechanisms of plant growth lecture\"\n",
    "response = retrieveAndGenerate(query, kb_id,model_id=model_id,region_id=region_id)\n",
    "generated_text = response['output']['text']\n",
    "pp.pprint(generated_text)"
   ]
  },
  {
   "cell_type": "code",
   "execution_count": 153,
   "id": "c5552f4e-c886-4881-8da7-4c277369b957",
   "metadata": {},
   "outputs": [
    {
     "name": "stdout",
     "output_type": "stream",
     "text": [
      "'Sorry, I am unable to assist you with this request.'\n"
     ]
    }
   ],
   "source": [
    "query = \"can you check if does anthocyanins play a role in schrodinger equation?\"\n",
    "response = retrieveAndGenerate(query, kb_id,model_id=model_id,region_id=region_id)\n",
    "generated_text = response['output']['text']\n",
    "pp.pprint(generated_text)"
   ]
  },
  {
   "cell_type": "markdown",
   "id": "f2e647c4-39ce-42c5-8e17-0b22071ca46b",
   "metadata": {},
   "source": [
    "### Step 13 : Cleanup\n"
   ]
  },
  {
   "cell_type": "code",
   "execution_count": null,
   "id": "29699542-bf96-4649-9d5d-5339d76f2380",
   "metadata": {},
   "outputs": [],
   "source": [
    "To avoid incurring future charges, delete the resources."
   ]
  },
  {
   "cell_type": "code",
   "execution_count": null,
   "id": "aa1ca58f",
   "metadata": {},
   "outputs": [],
   "source": []
  }
 ],
 "metadata": {
  "kernelspec": {
   "display_name": "Python 3 (ipykernel)",
   "language": "python",
   "name": "python3"
  },
  "language_info": {
   "codemirror_mode": {
    "name": "ipython",
    "version": 3
   },
   "file_extension": ".py",
   "mimetype": "text/x-python",
   "name": "python",
   "nbconvert_exporter": "python",
   "pygments_lexer": "ipython3",
   "version": "3.10.14"
  }
 },
 "nbformat": 4,
 "nbformat_minor": 5
}
